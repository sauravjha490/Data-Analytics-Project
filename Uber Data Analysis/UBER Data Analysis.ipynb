{
 "cells": [
  {
   "cell_type": "markdown",
   "id": "bd481c76",
   "metadata": {},
   "source": [
    "## 1. Problem Statement\n",
    "\n",
    "1. How many trips have I done over the years?\n",
    "2. How many trips were Completed and Canceled?\n",
    "3. Where did most of the dropoffs occur?\n",
    "4. What product type was usually chosen?\n",
    "5. What was the avg. fare, distance, amount and time spent on rides?\n",
    "6. Which weekdays had the highest average fares?\n",
    "7. Which was the longest/shortest and more expensive/cheaper ride?\n",
    "8. What was the average lead time before begining a trip?"
   ]
  },
  {
   "cell_type": "markdown",
   "id": "85e39911",
   "metadata": {},
   "source": [
    "## 2. Data Discovery\n",
    "\n",
    "***Importing libraries and dataset.***"
   ]
  },
  {
   "cell_type": "code",
   "execution_count": 1,
   "id": "514c0c8f",
   "metadata": {},
   "outputs": [],
   "source": [
    "import pandas as pd\n",
    "import numpy as np\n",
    "import seaborn as sns\n",
    "import matplotlib.pyplot as plt"
   ]
  },
  {
   "cell_type": "code",
   "execution_count": 2,
   "id": "cf68e9da",
   "metadata": {},
   "outputs": [],
   "source": [
    "# Read the Data:\n",
    "trips_df = pd.read_csv('trips_data.csv')"
   ]
  },
  {
   "cell_type": "code",
   "execution_count": 3,
   "id": "15cafa1b",
   "metadata": {},
   "outputs": [
    {
     "data": {
      "text/html": [
       "<div>\n",
       "<style scoped>\n",
       "    .dataframe tbody tr th:only-of-type {\n",
       "        vertical-align: middle;\n",
       "    }\n",
       "\n",
       "    .dataframe tbody tr th {\n",
       "        vertical-align: top;\n",
       "    }\n",
       "\n",
       "    .dataframe thead th {\n",
       "        text-align: right;\n",
       "    }\n",
       "</style>\n",
       "<table border=\"1\" class=\"dataframe\">\n",
       "  <thead>\n",
       "    <tr style=\"text-align: right;\">\n",
       "      <th></th>\n",
       "      <th>City</th>\n",
       "      <th>Product Type</th>\n",
       "      <th>Trip or Order Status</th>\n",
       "      <th>Request Time</th>\n",
       "      <th>Begin Trip Time</th>\n",
       "      <th>Begin Trip Lat</th>\n",
       "      <th>Begin Trip Lng</th>\n",
       "      <th>Dropoff Time</th>\n",
       "      <th>Dropoff Lat</th>\n",
       "      <th>Dropoff Lng</th>\n",
       "      <th>Distance (miles)</th>\n",
       "      <th>Fare Amount</th>\n",
       "      <th>Fare Currency</th>\n",
       "    </tr>\n",
       "  </thead>\n",
       "  <tbody>\n",
       "    <tr>\n",
       "      <th>0</th>\n",
       "      <td>458</td>\n",
       "      <td>Black</td>\n",
       "      <td>COMPLETED</td>\n",
       "      <td>2021-01-13 22:06:46 +0000 UTC</td>\n",
       "      <td>2021-01-13 22:11:10 +0000 UTC</td>\n",
       "      <td>-23.599752</td>\n",
       "      <td>-46.715954</td>\n",
       "      <td>2021-01-13 22:29:13 +0000 UTC</td>\n",
       "      <td>-23.559359</td>\n",
       "      <td>-46.666542</td>\n",
       "      <td>4.84</td>\n",
       "      <td>29.63</td>\n",
       "      <td>BRL</td>\n",
       "    </tr>\n",
       "    <tr>\n",
       "      <th>1</th>\n",
       "      <td>458</td>\n",
       "      <td>VIP</td>\n",
       "      <td>COMPLETED</td>\n",
       "      <td>2021-01-13 20:21:05 +0000 UTC</td>\n",
       "      <td>2021-01-13 20:27:29 +0000 UTC</td>\n",
       "      <td>-23.559298</td>\n",
       "      <td>-46.666454</td>\n",
       "      <td>2021-01-13 20:54:50 +0000 UTC</td>\n",
       "      <td>-23.599585</td>\n",
       "      <td>-46.715717</td>\n",
       "      <td>5.31</td>\n",
       "      <td>20.86</td>\n",
       "      <td>BRL</td>\n",
       "    </tr>\n",
       "    <tr>\n",
       "      <th>2</th>\n",
       "      <td>458</td>\n",
       "      <td>VIP</td>\n",
       "      <td>COMPLETED</td>\n",
       "      <td>2021-01-03 00:23:22 +0000 UTC</td>\n",
       "      <td>2021-01-03 00:33:00 +0000 UTC</td>\n",
       "      <td>-23.626593</td>\n",
       "      <td>-46.659410</td>\n",
       "      <td>2021-01-03 00:50:56 +0000 UTC</td>\n",
       "      <td>-23.559273</td>\n",
       "      <td>-46.666595</td>\n",
       "      <td>5.90</td>\n",
       "      <td>34.23</td>\n",
       "      <td>BRL</td>\n",
       "    </tr>\n",
       "    <tr>\n",
       "      <th>3</th>\n",
       "      <td>458</td>\n",
       "      <td>VIP</td>\n",
       "      <td>COMPLETED</td>\n",
       "      <td>2020-12-11 23:16:33 +0000 UTC</td>\n",
       "      <td>2020-12-11 23:27:32 +0000 UTC</td>\n",
       "      <td>-23.559410</td>\n",
       "      <td>-46.666435</td>\n",
       "      <td>2020-12-12 00:32:47 +0000 UTC</td>\n",
       "      <td>-23.425755</td>\n",
       "      <td>-46.481190</td>\n",
       "      <td>19.74</td>\n",
       "      <td>58.77</td>\n",
       "      <td>BRL</td>\n",
       "    </tr>\n",
       "    <tr>\n",
       "      <th>4</th>\n",
       "      <td>458</td>\n",
       "      <td>VIP</td>\n",
       "      <td>COMPLETED</td>\n",
       "      <td>2020-12-11 00:35:46 +0000 UTC</td>\n",
       "      <td>2020-12-11 00:46:46 +0000 UTC</td>\n",
       "      <td>-23.584846</td>\n",
       "      <td>-46.663590</td>\n",
       "      <td>2020-12-11 00:57:57 +0000 UTC</td>\n",
       "      <td>-23.559261</td>\n",
       "      <td>-46.666510</td>\n",
       "      <td>2.54</td>\n",
       "      <td>12.63</td>\n",
       "      <td>BRL</td>\n",
       "    </tr>\n",
       "  </tbody>\n",
       "</table>\n",
       "</div>"
      ],
      "text/plain": [
       "   City Product Type Trip or Order Status                   Request Time  \\\n",
       "0   458        Black            COMPLETED  2021-01-13 22:06:46 +0000 UTC   \n",
       "1   458          VIP            COMPLETED  2021-01-13 20:21:05 +0000 UTC   \n",
       "2   458          VIP            COMPLETED  2021-01-03 00:23:22 +0000 UTC   \n",
       "3   458          VIP            COMPLETED  2020-12-11 23:16:33 +0000 UTC   \n",
       "4   458          VIP            COMPLETED  2020-12-11 00:35:46 +0000 UTC   \n",
       "\n",
       "                 Begin Trip Time  Begin Trip Lat  Begin Trip Lng  \\\n",
       "0  2021-01-13 22:11:10 +0000 UTC      -23.599752      -46.715954   \n",
       "1  2021-01-13 20:27:29 +0000 UTC      -23.559298      -46.666454   \n",
       "2  2021-01-03 00:33:00 +0000 UTC      -23.626593      -46.659410   \n",
       "3  2020-12-11 23:27:32 +0000 UTC      -23.559410      -46.666435   \n",
       "4  2020-12-11 00:46:46 +0000 UTC      -23.584846      -46.663590   \n",
       "\n",
       "                    Dropoff Time  Dropoff Lat  Dropoff Lng  Distance (miles)  \\\n",
       "0  2021-01-13 22:29:13 +0000 UTC   -23.559359   -46.666542              4.84   \n",
       "1  2021-01-13 20:54:50 +0000 UTC   -23.599585   -46.715717              5.31   \n",
       "2  2021-01-03 00:50:56 +0000 UTC   -23.559273   -46.666595              5.90   \n",
       "3  2020-12-12 00:32:47 +0000 UTC   -23.425755   -46.481190             19.74   \n",
       "4  2020-12-11 00:57:57 +0000 UTC   -23.559261   -46.666510              2.54   \n",
       "\n",
       "   Fare Amount Fare Currency  \n",
       "0        29.63           BRL  \n",
       "1        20.86           BRL  \n",
       "2        34.23           BRL  \n",
       "3        58.77           BRL  \n",
       "4        12.63           BRL  "
      ]
     },
     "execution_count": 3,
     "metadata": {},
     "output_type": "execute_result"
    }
   ],
   "source": [
    "trips_df.head()"
   ]
  },
  {
   "cell_type": "markdown",
   "id": "15da2c99",
   "metadata": {},
   "source": [
    "## Checking basic dataset information (data types and dimensions)"
   ]
  },
  {
   "cell_type": "code",
   "execution_count": 4,
   "id": "881ace4a",
   "metadata": {},
   "outputs": [
    {
     "name": "stdout",
     "output_type": "stream",
     "text": [
      "<class 'pandas.core.frame.DataFrame'>\n",
      "RangeIndex: 554 entries, 0 to 553\n",
      "Data columns (total 13 columns):\n",
      " #   Column                Non-Null Count  Dtype  \n",
      "---  ------                --------------  -----  \n",
      " 0   City                  554 non-null    int64  \n",
      " 1   Product Type          551 non-null    object \n",
      " 2   Trip or Order Status  554 non-null    object \n",
      " 3   Request Time          554 non-null    object \n",
      " 4   Begin Trip Time       554 non-null    object \n",
      " 5   Begin Trip Lat        525 non-null    float64\n",
      " 6   Begin Trip Lng        525 non-null    float64\n",
      " 7   Dropoff Time          554 non-null    object \n",
      " 8   Dropoff Lat           525 non-null    float64\n",
      " 9   Dropoff Lng           525 non-null    float64\n",
      " 10  Distance (miles)      554 non-null    float64\n",
      " 11  Fare Amount           554 non-null    float64\n",
      " 12  Fare Currency         551 non-null    object \n",
      "dtypes: float64(6), int64(1), object(6)\n",
      "memory usage: 56.4+ KB\n"
     ]
    }
   ],
   "source": [
    "#Checking the basic Information of the DATASET:\n",
    "trips_df.info()"
   ]
  },
  {
   "cell_type": "code",
   "execution_count": 5,
   "id": "4b1d60fb",
   "metadata": {},
   "outputs": [],
   "source": [
    "# Renaming the columns names:\n",
    "trips_df.columns = ['city','product_type','status','request_time','begin_time','begin_lat','begin_lng','dropoff_time','dropoff_lat','dropoff_lng','distance_miles','fare_amount','fare_currency']"
   ]
  },
  {
   "cell_type": "code",
   "execution_count": 6,
   "id": "869891d4",
   "metadata": {},
   "outputs": [
    {
     "data": {
      "text/html": [
       "<div>\n",
       "<style scoped>\n",
       "    .dataframe tbody tr th:only-of-type {\n",
       "        vertical-align: middle;\n",
       "    }\n",
       "\n",
       "    .dataframe tbody tr th {\n",
       "        vertical-align: top;\n",
       "    }\n",
       "\n",
       "    .dataframe thead th {\n",
       "        text-align: right;\n",
       "    }\n",
       "</style>\n",
       "<table border=\"1\" class=\"dataframe\">\n",
       "  <thead>\n",
       "    <tr style=\"text-align: right;\">\n",
       "      <th></th>\n",
       "      <th>count</th>\n",
       "      <th>unique</th>\n",
       "      <th>top</th>\n",
       "      <th>freq</th>\n",
       "    </tr>\n",
       "  </thead>\n",
       "  <tbody>\n",
       "    <tr>\n",
       "      <th>product_type</th>\n",
       "      <td>551</td>\n",
       "      <td>15</td>\n",
       "      <td>UberX</td>\n",
       "      <td>169</td>\n",
       "    </tr>\n",
       "    <tr>\n",
       "      <th>status</th>\n",
       "      <td>554</td>\n",
       "      <td>4</td>\n",
       "      <td>COMPLETED</td>\n",
       "      <td>453</td>\n",
       "    </tr>\n",
       "    <tr>\n",
       "      <th>request_time</th>\n",
       "      <td>554</td>\n",
       "      <td>554</td>\n",
       "      <td>2021-01-13 22:06:46 +0000 UTC</td>\n",
       "      <td>1</td>\n",
       "    </tr>\n",
       "    <tr>\n",
       "      <th>begin_time</th>\n",
       "      <td>554</td>\n",
       "      <td>462</td>\n",
       "      <td>1970-01-01 00:00:00 +0000 UTC</td>\n",
       "      <td>93</td>\n",
       "    </tr>\n",
       "    <tr>\n",
       "      <th>dropoff_time</th>\n",
       "      <td>554</td>\n",
       "      <td>455</td>\n",
       "      <td>1970-01-01 00:00:00 +0000 UTC</td>\n",
       "      <td>100</td>\n",
       "    </tr>\n",
       "    <tr>\n",
       "      <th>fare_currency</th>\n",
       "      <td>551</td>\n",
       "      <td>1</td>\n",
       "      <td>BRL</td>\n",
       "      <td>551</td>\n",
       "    </tr>\n",
       "  </tbody>\n",
       "</table>\n",
       "</div>"
      ],
      "text/plain": [
       "              count unique                            top freq\n",
       "product_type    551     15                          UberX  169\n",
       "status          554      4                      COMPLETED  453\n",
       "request_time    554    554  2021-01-13 22:06:46 +0000 UTC    1\n",
       "begin_time      554    462  1970-01-01 00:00:00 +0000 UTC   93\n",
       "dropoff_time    554    455  1970-01-01 00:00:00 +0000 UTC  100\n",
       "fare_currency   551      1                            BRL  551"
      ]
     },
     "execution_count": 6,
     "metadata": {},
     "output_type": "execute_result"
    }
   ],
   "source": [
    "#Checking the basic Information of the DATASET:\n",
    "trips_df.describe(include='O').T"
   ]
  },
  {
   "cell_type": "code",
   "execution_count": 7,
   "id": "83b46130",
   "metadata": {},
   "outputs": [
    {
     "data": {
      "image/png": "[encoded data removed]",
      "text/plain": [
       "<Figure size 640x480 with 1 Axes>"
      ]
     },
     "metadata": {},
     "output_type": "display_data"
    }
   ],
   "source": [
    "# Find the value count of each type in the column 'Product-Type':\n",
    "trips_df['product_type'].value_counts().plot(kind='bar')\n",
    "plt.show()"
   ]
  },
  {
   "cell_type": "code",
   "execution_count": 8,
   "id": "7e508da0",
   "metadata": {},
   "outputs": [
    {
     "data": {
      "text/plain": [
       "15"
      ]
     },
     "execution_count": 8,
     "metadata": {},
     "output_type": "execute_result"
    }
   ],
   "source": [
    "trips_df['product_type'].nunique()"
   ]
  },
  {
   "cell_type": "code",
   "execution_count": 9,
   "id": "d5927f53",
   "metadata": {},
   "outputs": [
    {
     "data": {
      "text/plain": [
       "array(['Black', 'VIP', 'UberX', 'UberEATS Marketplace', 'Juntos', 'Pool',\n",
       "       'Pool: MATCHED', 'uberX', 'POOL', 'uberX VIP', nan,\n",
       "       'POOL: MATCHED', 'UberBLACK', 'uberPOOL: MATCHED', 'uberPOOL',\n",
       "       'uberx'], dtype=object)"
      ]
     },
     "execution_count": 9,
     "metadata": {},
     "output_type": "execute_result"
    }
   ],
   "source": [
    "trips_df['product_type'].unique()"
   ]
  },
  {
   "cell_type": "markdown",
   "id": "86aab493",
   "metadata": {},
   "source": [
    "***Taking a look at the continuous variables, we notice the presence of some outliers. However, these outliers do not seem to reflect any abnormal value (e.g. fare_amount = 1000 BRL), which may let us a little bit more comfortable.***\n",
    "\n",
    "In case abnormal values are found, some treatment should be probably considered (e.g. outliers replacement/removal).**"
   ]
  },
  {
   "cell_type": "code",
   "execution_count": 10,
   "id": "89f51d35",
   "metadata": {},
   "outputs": [
    {
     "data": {
      "text/html": [
       "<div>\n",
       "<style scoped>\n",
       "    .dataframe tbody tr th:only-of-type {\n",
       "        vertical-align: middle;\n",
       "    }\n",
       "\n",
       "    .dataframe tbody tr th {\n",
       "        vertical-align: top;\n",
       "    }\n",
       "\n",
       "    .dataframe thead th {\n",
       "        text-align: right;\n",
       "    }\n",
       "</style>\n",
       "<table border=\"1\" class=\"dataframe\">\n",
       "  <thead>\n",
       "    <tr style=\"text-align: right;\">\n",
       "      <th></th>\n",
       "      <th>distance_miles</th>\n",
       "      <th>fare_amount</th>\n",
       "    </tr>\n",
       "  </thead>\n",
       "  <tbody>\n",
       "    <tr>\n",
       "      <th>0</th>\n",
       "      <td>4.84</td>\n",
       "      <td>29.63</td>\n",
       "    </tr>\n",
       "    <tr>\n",
       "      <th>1</th>\n",
       "      <td>5.31</td>\n",
       "      <td>20.86</td>\n",
       "    </tr>\n",
       "    <tr>\n",
       "      <th>2</th>\n",
       "      <td>5.90</td>\n",
       "      <td>34.23</td>\n",
       "    </tr>\n",
       "    <tr>\n",
       "      <th>3</th>\n",
       "      <td>19.74</td>\n",
       "      <td>58.77</td>\n",
       "    </tr>\n",
       "    <tr>\n",
       "      <th>4</th>\n",
       "      <td>2.54</td>\n",
       "      <td>12.63</td>\n",
       "    </tr>\n",
       "  </tbody>\n",
       "</table>\n",
       "</div>"
      ],
      "text/plain": [
       "   distance_miles  fare_amount\n",
       "0            4.84        29.63\n",
       "1            5.31        20.86\n",
       "2            5.90        34.23\n",
       "3           19.74        58.77\n",
       "4            2.54        12.63"
      ]
     },
     "execution_count": 10,
     "metadata": {},
     "output_type": "execute_result"
    }
   ],
   "source": [
    "df1 = trips_df[trips_df['product_type']!='UberEATS Marketplace'][['distance_miles','fare_amount']]\n",
    "df1.head()"
   ]
  },
  {
   "cell_type": "code",
   "execution_count": 11,
   "id": "aebf7f10",
   "metadata": {},
   "outputs": [
    {
     "data": {
      "image/png": "[encoded data removed]",
      "text/plain": [
       "<Figure size 640x480 with 1 Axes>"
      ]
     },
     "metadata": {},
     "output_type": "display_data"
    }
   ],
   "source": [
    "# Box Plot to observe the Outliers:\n",
    "df1.plot(kind='box')\n",
    "plt.show()"
   ]
  },
  {
   "cell_type": "code",
   "execution_count": 12,
   "id": "862fb6f8",
   "metadata": {},
   "outputs": [
    {
     "data": {
      "image/png": "[encoded data removed]",
      "text/plain": [
       "<Figure size 640x480 with 1 Axes>"
      ]
     },
     "metadata": {},
     "output_type": "display_data"
    }
   ],
   "source": [
    "# To see the corelation between the the variables in df1:\n",
    "sns.scatterplot(x='distance_miles',y='fare_amount',data=df1)\n",
    "plt.show()"
   ]
  },
  {
   "cell_type": "markdown",
   "id": "fafc91e6",
   "metadata": {},
   "source": [
    "## Outliers Treatment:"
   ]
  },
  {
   "cell_type": "markdown",
   "id": "59e324fc",
   "metadata": {},
   "source": [
    "- Since the variables are not normally distributed, so we will go for the IQR Method for the tratment of the Outliers."
   ]
  },
  {
   "cell_type": "code",
   "execution_count": 13,
   "id": "445ced19",
   "metadata": {},
   "outputs": [
    {
     "name": "stdout",
     "output_type": "stream",
     "text": [
      "The upper limit is 49.01249999999999 and lower limit is -16.847499999999997\n"
     ]
    }
   ],
   "source": [
    "Q1 = df1['fare_amount'].quantile(0.25)\n",
    "Q3 = df1['fare_amount'].quantile(0.75)\n",
    "IQR = Q3-Q1\n",
    "upper_fence = Q3+1.5*IQR\n",
    "lower_fence = Q1-1.5*IQR\n",
    "print(f'The upper limit is {upper_fence} and lower limit is {lower_fence}')"
   ]
  },
  {
   "cell_type": "code",
   "execution_count": 14,
   "id": "2ec52338",
   "metadata": {},
   "outputs": [],
   "source": [
    "# Capping:\n",
    "df1['fare_amount'] = np.where(df1['fare_amount']>upper_fence,upper_fence,df1['fare_amount'])"
   ]
  },
  {
   "cell_type": "code",
   "execution_count": 15,
   "id": "f2049104",
   "metadata": {},
   "outputs": [
    {
     "name": "stdout",
     "output_type": "stream",
     "text": [
      "The upper limit is 13.305 and lower limit is -6.095000000000001\n"
     ]
    }
   ],
   "source": [
    "Q1 = df1['distance_miles'].quantile(0.25)\n",
    "Q3 = df1['distance_miles'].quantile(0.75)\n",
    "IQR = Q3-Q1\n",
    "upper_fence = Q3+1.5*IQR\n",
    "lower_fence = Q1-1.5*IQR\n",
    "print(f'The upper limit is {upper_fence} and lower limit is {lower_fence}')"
   ]
  },
  {
   "cell_type": "code",
   "execution_count": 16,
   "id": "eae85862",
   "metadata": {},
   "outputs": [],
   "source": [
    "# Capping:\n",
    "df1['distance_miles'] = np.where(df1['distance_miles']>upper_fence,upper_fence,df1['distance_miles'])"
   ]
  },
  {
   "cell_type": "code",
   "execution_count": 17,
   "id": "005a5ac5",
   "metadata": {},
   "outputs": [
    {
     "name": "stderr",
     "output_type": "stream",
     "text": [
      "C:\\Users\\Home pc\\anaconda3\\lib\\site-packages\\seaborn\\_decorators.py:36: FutureWarning: Pass the following variable as a keyword arg: x. From version 0.12, the only valid positional argument will be `data`, and passing other arguments without an explicit keyword will result in an error or misinterpretation.\n",
      "  warnings.warn(\n"
     ]
    },
    {
     "data": {
      "image/png": "[encoded data removed]",
      "text/plain": [
       "<Figure size 640x480 with 1 Axes>"
      ]
     },
     "metadata": {},
     "output_type": "display_data"
    },
    {
     "name": "stderr",
     "output_type": "stream",
     "text": [
      "C:\\Users\\Home pc\\anaconda3\\lib\\site-packages\\seaborn\\_decorators.py:36: FutureWarning: Pass the following variable as a keyword arg: x. From version 0.12, the only valid positional argument will be `data`, and passing other arguments without an explicit keyword will result in an error or misinterpretation.\n",
      "  warnings.warn(\n"
     ]
    },
    {
     "data": {
      "image/png": "[encoded data removed]",
      "text/plain": [
       "<Figure size 640x480 with 1 Axes>"
      ]
     },
     "metadata": {},
     "output_type": "display_data"
    }
   ],
   "source": [
    "# BoxPlots after Outlier Treatment:\n",
    "for i in df1.columns:\n",
    "    plt.show(sns.boxplot(df1[i]))"
   ]
  },
  {
   "cell_type": "markdown",
   "id": "9a88658a",
   "metadata": {},
   "source": [
    "## 3. Data Preparation\n",
    "\n",
    "***I decided to remove the column fare_currency, since all my trips happened inside a single country (Brazil).***"
   ]
  },
  {
   "cell_type": "code",
   "execution_count": 18,
   "id": "3f3578ac",
   "metadata": {},
   "outputs": [],
   "source": [
    "trips_df.drop(columns='fare_currency',inplace=True)"
   ]
  },
  {
   "cell_type": "markdown",
   "id": "ccb3dfcd",
   "metadata": {},
   "source": [
    "### Now let’s check the existence of missing values."
   ]
  },
  {
   "cell_type": "code",
   "execution_count": 19,
   "id": "1ceaae3b",
   "metadata": {},
   "outputs": [
    {
     "data": {
      "text/plain": [
       "begin_lat         29\n",
       "begin_lng         29\n",
       "dropoff_lat       29\n",
       "dropoff_lng       29\n",
       "product_type       3\n",
       "city               0\n",
       "status             0\n",
       "request_time       0\n",
       "begin_time         0\n",
       "dropoff_time       0\n",
       "distance_miles     0\n",
       "fare_amount        0\n",
       "dtype: int64"
      ]
     },
     "execution_count": 19,
     "metadata": {},
     "output_type": "execute_result"
    }
   ],
   "source": [
    "trips_df.isnull().sum().sort_values(ascending=False)"
   ]
  },
  {
   "cell_type": "markdown",
   "id": "ea5dfd60",
   "metadata": {},
   "source": [
    "***Despite empty Lng and Lat values (29 total), there were found 3 records without product_type. As shown below, these records are insignificant to my dataset, since practically no columns are fulfilled.***"
   ]
  },
  {
   "cell_type": "code",
   "execution_count": 20,
   "id": "3e527721",
   "metadata": {},
   "outputs": [
    {
     "data": {
      "text/html": [
       "<div>\n",
       "<style scoped>\n",
       "    .dataframe tbody tr th:only-of-type {\n",
       "        vertical-align: middle;\n",
       "    }\n",
       "\n",
       "    .dataframe tbody tr th {\n",
       "        vertical-align: top;\n",
       "    }\n",
       "\n",
       "    .dataframe thead th {\n",
       "        text-align: right;\n",
       "    }\n",
       "</style>\n",
       "<table border=\"1\" class=\"dataframe\">\n",
       "  <thead>\n",
       "    <tr style=\"text-align: right;\">\n",
       "      <th></th>\n",
       "      <th>city</th>\n",
       "      <th>product_type</th>\n",
       "      <th>status</th>\n",
       "      <th>request_time</th>\n",
       "      <th>begin_time</th>\n",
       "      <th>begin_lat</th>\n",
       "      <th>begin_lng</th>\n",
       "      <th>dropoff_time</th>\n",
       "      <th>dropoff_lat</th>\n",
       "      <th>dropoff_lng</th>\n",
       "      <th>distance_miles</th>\n",
       "      <th>fare_amount</th>\n",
       "    </tr>\n",
       "  </thead>\n",
       "  <tbody>\n",
       "    <tr>\n",
       "      <th>281</th>\n",
       "      <td>458</td>\n",
       "      <td>NaN</td>\n",
       "      <td>UNFULFILLED</td>\n",
       "      <td>2018-05-26 18:36:51 +0000 UTC</td>\n",
       "      <td>1970-01-01 00:00:00 +0000 UTC</td>\n",
       "      <td>NaN</td>\n",
       "      <td>NaN</td>\n",
       "      <td>1970-01-01 00:00:00 +0000 UTC</td>\n",
       "      <td>NaN</td>\n",
       "      <td>NaN</td>\n",
       "      <td>0.0</td>\n",
       "      <td>0.0</td>\n",
       "    </tr>\n",
       "    <tr>\n",
       "      <th>362</th>\n",
       "      <td>1449</td>\n",
       "      <td>NaN</td>\n",
       "      <td>UNFULFILLED</td>\n",
       "      <td>2018-02-13 01:59:25 +0000 UTC</td>\n",
       "      <td>1970-01-01 00:00:00 +0000 UTC</td>\n",
       "      <td>NaN</td>\n",
       "      <td>NaN</td>\n",
       "      <td>1970-01-01 00:00:00 +0000 UTC</td>\n",
       "      <td>NaN</td>\n",
       "      <td>NaN</td>\n",
       "      <td>0.0</td>\n",
       "      <td>0.0</td>\n",
       "    </tr>\n",
       "    <tr>\n",
       "      <th>392</th>\n",
       "      <td>1449</td>\n",
       "      <td>NaN</td>\n",
       "      <td>UNFULFILLED</td>\n",
       "      <td>2018-01-01 04:44:10 +0000 UTC</td>\n",
       "      <td>1970-01-01 00:00:00 +0000 UTC</td>\n",
       "      <td>NaN</td>\n",
       "      <td>NaN</td>\n",
       "      <td>1970-01-01 00:00:00 +0000 UTC</td>\n",
       "      <td>NaN</td>\n",
       "      <td>NaN</td>\n",
       "      <td>0.0</td>\n",
       "      <td>0.0</td>\n",
       "    </tr>\n",
       "  </tbody>\n",
       "</table>\n",
       "</div>"
      ],
      "text/plain": [
       "     city product_type       status                   request_time  \\\n",
       "281   458          NaN  UNFULFILLED  2018-05-26 18:36:51 +0000 UTC   \n",
       "362  1449          NaN  UNFULFILLED  2018-02-13 01:59:25 +0000 UTC   \n",
       "392  1449          NaN  UNFULFILLED  2018-01-01 04:44:10 +0000 UTC   \n",
       "\n",
       "                        begin_time  begin_lat  begin_lng  \\\n",
       "281  1970-01-01 00:00:00 +0000 UTC        NaN        NaN   \n",
       "362  1970-01-01 00:00:00 +0000 UTC        NaN        NaN   \n",
       "392  1970-01-01 00:00:00 +0000 UTC        NaN        NaN   \n",
       "\n",
       "                      dropoff_time  dropoff_lat  dropoff_lng  distance_miles  \\\n",
       "281  1970-01-01 00:00:00 +0000 UTC          NaN          NaN             0.0   \n",
       "362  1970-01-01 00:00:00 +0000 UTC          NaN          NaN             0.0   \n",
       "392  1970-01-01 00:00:00 +0000 UTC          NaN          NaN             0.0   \n",
       "\n",
       "     fare_amount  \n",
       "281          0.0  \n",
       "362          0.0  \n",
       "392          0.0  "
      ]
     },
     "execution_count": 20,
     "metadata": {},
     "output_type": "execute_result"
    }
   ],
   "source": [
    "trips_df[trips_df['product_type'].isnull()]"
   ]
  },
  {
   "cell_type": "markdown",
   "id": "53167636",
   "metadata": {},
   "source": [
    "***So now, let’s get rid of these 3 records before proceding.***"
   ]
  },
  {
   "cell_type": "code",
   "execution_count": 21,
   "id": "15509eb2",
   "metadata": {},
   "outputs": [],
   "source": [
    "trips_df.dropna(subset='product_type',inplace=True)"
   ]
  },
  {
   "cell_type": "markdown",
   "id": "d730c60b",
   "metadata": {},
   "source": [
    "### 3.1 Data Cleansing: Categorical features\n",
    "\n",
    "While analyzing the first categorical column <product_type>, I could clearly see that some work was necessary since I could find different values referring to the same category. Then, I summarized 15 original categories in 5 ones."
   ]
  },
  {
   "cell_type": "code",
   "execution_count": 22,
   "id": "018a4150",
   "metadata": {},
   "outputs": [
    {
     "data": {
      "text/plain": [
       "UberX                   169\n",
       "uberX                   144\n",
       "uberX VIP                81\n",
       "VIP                      71\n",
       "POOL                     36\n",
       "Pool                     12\n",
       "UberEATS Marketplace     10\n",
       "POOL: MATCHED             8\n",
       "uberPOOL: MATCHED         5\n",
       "uberPOOL                  5\n",
       "Pool: MATCHED             4\n",
       "Black                     3\n",
       "Juntos                    1\n",
       "UberBLACK                 1\n",
       "uberx                     1\n",
       "Name: product_type, dtype: int64"
      ]
     },
     "execution_count": 22,
     "metadata": {},
     "output_type": "execute_result"
    }
   ],
   "source": [
    "# Checking categories in product_type column\n",
    "trips_df['product_type'].value_counts()"
   ]
  },
  {
   "cell_type": "code",
   "execution_count": 23,
   "id": "80b1eb6a",
   "metadata": {},
   "outputs": [],
   "source": [
    "# Categories reclassification:\n",
    "\n",
    "product_mapping = {'UberX':'UberX','uberX':'UberX',\n",
    "                   'uberX VIP':'UberX','VIP':'UberX',\n",
    "                   'POOL':'Pool','POOL: MATCHED':'Pool',\n",
    "                   'UberBLACK': 'Black',\n",
    "                   'uberx':'UberX','uberPOOL':'Pool',\n",
    "                   'uberPOOL: MATCHED':'Pool',\n",
    "                   'Pool: MATCHED':'Pool'}"
   ]
  },
  {
   "cell_type": "code",
   "execution_count": 24,
   "id": "b0688466",
   "metadata": {},
   "outputs": [],
   "source": [
    "# New categories replacement\n",
    "trips_df['product_type'].replace(product_mapping,inplace=True)"
   ]
  },
  {
   "cell_type": "code",
   "execution_count": 25,
   "id": "4bcdda03",
   "metadata": {},
   "outputs": [
    {
     "data": {
      "text/plain": [
       "UberX                   466\n",
       "Pool                     70\n",
       "UberEATS Marketplace     10\n",
       "Black                     4\n",
       "Juntos                    1\n",
       "Name: product_type, dtype: int64"
      ]
     },
     "execution_count": 25,
     "metadata": {},
     "output_type": "execute_result"
    }
   ],
   "source": [
    "trips_df['product_type'].value_counts()"
   ]
  },
  {
   "cell_type": "markdown",
   "id": "402a02ef",
   "metadata": {},
   "source": [
    "***As the scope of this analysis is only around Uber rides, I removed UberEATS records from my dataset.***"
   ]
  },
  {
   "cell_type": "code",
   "execution_count": 26,
   "id": "3575a488",
   "metadata": {},
   "outputs": [
    {
     "data": {
      "text/plain": [
       "UberX     466\n",
       "Pool       70\n",
       "Black       4\n",
       "Juntos      1\n",
       "Name: product_type, dtype: int64"
      ]
     },
     "execution_count": 26,
     "metadata": {},
     "output_type": "execute_result"
    }
   ],
   "source": [
    "# Removing 'UberEats':\n",
    "trips_df = trips_df[trips_df['product_type']!='UberEATS Marketplace']\n",
    "trips_df['product_type'].value_counts()"
   ]
  },
  {
   "cell_type": "markdown",
   "id": "8a821805",
   "metadata": {},
   "source": [
    "***Our second categorical feature <status> seems well classified in 3 statuses, which will not require any treatment.***"
   ]
  },
  {
   "cell_type": "code",
   "execution_count": 27,
   "id": "a382636a",
   "metadata": {},
   "outputs": [
    {
     "data": {
      "text/plain": [
       "COMPLETED          444\n",
       "CANCELED            87\n",
       "DRIVER_CANCELED     10\n",
       "Name: status, dtype: int64"
      ]
     },
     "execution_count": 27,
     "metadata": {},
     "output_type": "execute_result"
    }
   ],
   "source": [
    "trips_df['status'].value_counts()"
   ]
  },
  {
   "cell_type": "markdown",
   "id": "6d57d197",
   "metadata": {},
   "source": [
    "### 3.2 Data Transformation: Handling dates\n",
    "\n",
    "***Dates usually increase a lot your power of analysis, since you can break it down into different parts and generate insights from different perspectives. As previously shown, our date features are in fact object data types, so we need to convert them into datetime format.***"
   ]
  },
  {
   "cell_type": "code",
   "execution_count": 28,
   "id": "f6ee65c8",
   "metadata": {},
   "outputs": [
    {
     "data": {
      "text/html": [
       "<div>\n",
       "<style scoped>\n",
       "    .dataframe tbody tr th:only-of-type {\n",
       "        vertical-align: middle;\n",
       "    }\n",
       "\n",
       "    .dataframe tbody tr th {\n",
       "        vertical-align: top;\n",
       "    }\n",
       "\n",
       "    .dataframe thead th {\n",
       "        text-align: right;\n",
       "    }\n",
       "</style>\n",
       "<table border=\"1\" class=\"dataframe\">\n",
       "  <thead>\n",
       "    <tr style=\"text-align: right;\">\n",
       "      <th></th>\n",
       "      <th>city</th>\n",
       "      <th>product_type</th>\n",
       "      <th>status</th>\n",
       "      <th>request_time</th>\n",
       "      <th>begin_time</th>\n",
       "      <th>begin_lat</th>\n",
       "      <th>begin_lng</th>\n",
       "      <th>dropoff_time</th>\n",
       "      <th>dropoff_lat</th>\n",
       "      <th>dropoff_lng</th>\n",
       "      <th>distance_miles</th>\n",
       "      <th>fare_amount</th>\n",
       "    </tr>\n",
       "  </thead>\n",
       "  <tbody>\n",
       "    <tr>\n",
       "      <th>0</th>\n",
       "      <td>458</td>\n",
       "      <td>Black</td>\n",
       "      <td>COMPLETED</td>\n",
       "      <td>2021-01-13 22:06:46</td>\n",
       "      <td>2021-01-13 22:11:10</td>\n",
       "      <td>-23.599752</td>\n",
       "      <td>-46.715954</td>\n",
       "      <td>2021-01-13 22:29:13</td>\n",
       "      <td>-23.559359</td>\n",
       "      <td>-46.666542</td>\n",
       "      <td>4.84</td>\n",
       "      <td>29.63</td>\n",
       "    </tr>\n",
       "    <tr>\n",
       "      <th>1</th>\n",
       "      <td>458</td>\n",
       "      <td>UberX</td>\n",
       "      <td>COMPLETED</td>\n",
       "      <td>2021-01-13 20:21:05</td>\n",
       "      <td>2021-01-13 20:27:29</td>\n",
       "      <td>-23.559298</td>\n",
       "      <td>-46.666454</td>\n",
       "      <td>2021-01-13 20:54:50</td>\n",
       "      <td>-23.599585</td>\n",
       "      <td>-46.715717</td>\n",
       "      <td>5.31</td>\n",
       "      <td>20.86</td>\n",
       "    </tr>\n",
       "    <tr>\n",
       "      <th>2</th>\n",
       "      <td>458</td>\n",
       "      <td>UberX</td>\n",
       "      <td>COMPLETED</td>\n",
       "      <td>2021-01-03 00:23:22</td>\n",
       "      <td>2021-01-03 00:33:00</td>\n",
       "      <td>-23.626593</td>\n",
       "      <td>-46.659410</td>\n",
       "      <td>2021-01-03 00:50:56</td>\n",
       "      <td>-23.559273</td>\n",
       "      <td>-46.666595</td>\n",
       "      <td>5.90</td>\n",
       "      <td>34.23</td>\n",
       "    </tr>\n",
       "    <tr>\n",
       "      <th>3</th>\n",
       "      <td>458</td>\n",
       "      <td>UberX</td>\n",
       "      <td>COMPLETED</td>\n",
       "      <td>2020-12-11 23:16:33</td>\n",
       "      <td>2020-12-11 23:27:32</td>\n",
       "      <td>-23.559410</td>\n",
       "      <td>-46.666435</td>\n",
       "      <td>2020-12-12 00:32:47</td>\n",
       "      <td>-23.425755</td>\n",
       "      <td>-46.481190</td>\n",
       "      <td>19.74</td>\n",
       "      <td>58.77</td>\n",
       "    </tr>\n",
       "    <tr>\n",
       "      <th>4</th>\n",
       "      <td>458</td>\n",
       "      <td>UberX</td>\n",
       "      <td>COMPLETED</td>\n",
       "      <td>2020-12-11 00:35:46</td>\n",
       "      <td>2020-12-11 00:46:46</td>\n",
       "      <td>-23.584846</td>\n",
       "      <td>-46.663590</td>\n",
       "      <td>2020-12-11 00:57:57</td>\n",
       "      <td>-23.559261</td>\n",
       "      <td>-46.666510</td>\n",
       "      <td>2.54</td>\n",
       "      <td>12.63</td>\n",
       "    </tr>\n",
       "    <tr>\n",
       "      <th>...</th>\n",
       "      <td>...</td>\n",
       "      <td>...</td>\n",
       "      <td>...</td>\n",
       "      <td>...</td>\n",
       "      <td>...</td>\n",
       "      <td>...</td>\n",
       "      <td>...</td>\n",
       "      <td>...</td>\n",
       "      <td>...</td>\n",
       "      <td>...</td>\n",
       "      <td>...</td>\n",
       "      <td>...</td>\n",
       "    </tr>\n",
       "    <tr>\n",
       "      <th>549</th>\n",
       "      <td>458</td>\n",
       "      <td>Pool</td>\n",
       "      <td>COMPLETED</td>\n",
       "      <td>2016-06-22 11:07:02</td>\n",
       "      <td>2016-06-22 11:14:17</td>\n",
       "      <td>-23.616073</td>\n",
       "      <td>-46.665949</td>\n",
       "      <td>2016-06-22 11:24:28</td>\n",
       "      <td>-23.602760</td>\n",
       "      <td>-46.644897</td>\n",
       "      <td>2.20</td>\n",
       "      <td>7.84</td>\n",
       "    </tr>\n",
       "    <tr>\n",
       "      <th>550</th>\n",
       "      <td>458</td>\n",
       "      <td>UberX</td>\n",
       "      <td>COMPLETED</td>\n",
       "      <td>2016-04-07 00:30:46</td>\n",
       "      <td>2016-04-07 00:35:23</td>\n",
       "      <td>-23.569478</td>\n",
       "      <td>-46.672408</td>\n",
       "      <td>2016-04-07 00:50:14</td>\n",
       "      <td>-23.602737</td>\n",
       "      <td>-46.645352</td>\n",
       "      <td>4.08</td>\n",
       "      <td>15.06</td>\n",
       "    </tr>\n",
       "    <tr>\n",
       "      <th>551</th>\n",
       "      <td>458</td>\n",
       "      <td>UberX</td>\n",
       "      <td>COMPLETED</td>\n",
       "      <td>2016-04-06 21:16:52</td>\n",
       "      <td>2016-04-06 21:20:44</td>\n",
       "      <td>-23.602608</td>\n",
       "      <td>-46.645084</td>\n",
       "      <td>2016-04-06 21:41:30</td>\n",
       "      <td>-23.569549</td>\n",
       "      <td>-46.672412</td>\n",
       "      <td>3.45</td>\n",
       "      <td>15.16</td>\n",
       "    </tr>\n",
       "    <tr>\n",
       "      <th>552</th>\n",
       "      <td>458</td>\n",
       "      <td>UberX</td>\n",
       "      <td>CANCELED</td>\n",
       "      <td>2016-04-06 21:12:03</td>\n",
       "      <td>1970-01-01 00:00:00</td>\n",
       "      <td>-23.601718</td>\n",
       "      <td>-46.646871</td>\n",
       "      <td>1970-01-01 00:00:00</td>\n",
       "      <td>-23.600862</td>\n",
       "      <td>-46.644494</td>\n",
       "      <td>0.00</td>\n",
       "      <td>0.00</td>\n",
       "    </tr>\n",
       "    <tr>\n",
       "      <th>553</th>\n",
       "      <td>458</td>\n",
       "      <td>UberX</td>\n",
       "      <td>CANCELED</td>\n",
       "      <td>2015-12-17 23:52:50</td>\n",
       "      <td>2015-12-18 00:01:01</td>\n",
       "      <td>-23.607114</td>\n",
       "      <td>-46.566483</td>\n",
       "      <td>1970-01-01 00:00:00</td>\n",
       "      <td>-23.611577</td>\n",
       "      <td>-46.570618</td>\n",
       "      <td>0.00</td>\n",
       "      <td>7.00</td>\n",
       "    </tr>\n",
       "  </tbody>\n",
       "</table>\n",
       "<p>541 rows × 12 columns</p>\n",
       "</div>"
      ],
      "text/plain": [
       "     city product_type     status        request_time          begin_time  \\\n",
       "0     458        Black  COMPLETED 2021-01-13 22:06:46 2021-01-13 22:11:10   \n",
       "1     458        UberX  COMPLETED 2021-01-13 20:21:05 2021-01-13 20:27:29   \n",
       "2     458        UberX  COMPLETED 2021-01-03 00:23:22 2021-01-03 00:33:00   \n",
       "3     458        UberX  COMPLETED 2020-12-11 23:16:33 2020-12-11 23:27:32   \n",
       "4     458        UberX  COMPLETED 2020-12-11 00:35:46 2020-12-11 00:46:46   \n",
       "..    ...          ...        ...                 ...                 ...   \n",
       "549   458         Pool  COMPLETED 2016-06-22 11:07:02 2016-06-22 11:14:17   \n",
       "550   458        UberX  COMPLETED 2016-04-07 00:30:46 2016-04-07 00:35:23   \n",
       "551   458        UberX  COMPLETED 2016-04-06 21:16:52 2016-04-06 21:20:44   \n",
       "552   458        UberX   CANCELED 2016-04-06 21:12:03 1970-01-01 00:00:00   \n",
       "553   458        UberX   CANCELED 2015-12-17 23:52:50 2015-12-18 00:01:01   \n",
       "\n",
       "     begin_lat  begin_lng        dropoff_time  dropoff_lat  dropoff_lng  \\\n",
       "0   -23.599752 -46.715954 2021-01-13 22:29:13   -23.559359   -46.666542   \n",
       "1   -23.559298 -46.666454 2021-01-13 20:54:50   -23.599585   -46.715717   \n",
       "2   -23.626593 -46.659410 2021-01-03 00:50:56   -23.559273   -46.666595   \n",
       "3   -23.559410 -46.666435 2020-12-12 00:32:47   -23.425755   -46.481190   \n",
       "4   -23.584846 -46.663590 2020-12-11 00:57:57   -23.559261   -46.666510   \n",
       "..         ...        ...                 ...          ...          ...   \n",
       "549 -23.616073 -46.665949 2016-06-22 11:24:28   -23.602760   -46.644897   \n",
       "550 -23.569478 -46.672408 2016-04-07 00:50:14   -23.602737   -46.645352   \n",
       "551 -23.602608 -46.645084 2016-04-06 21:41:30   -23.569549   -46.672412   \n",
       "552 -23.601718 -46.646871 1970-01-01 00:00:00   -23.600862   -46.644494   \n",
       "553 -23.607114 -46.566483 1970-01-01 00:00:00   -23.611577   -46.570618   \n",
       "\n",
       "     distance_miles  fare_amount  \n",
       "0              4.84        29.63  \n",
       "1              5.31        20.86  \n",
       "2              5.90        34.23  \n",
       "3             19.74        58.77  \n",
       "4              2.54        12.63  \n",
       "..              ...          ...  \n",
       "549            2.20         7.84  \n",
       "550            4.08        15.06  \n",
       "551            3.45        15.16  \n",
       "552            0.00         0.00  \n",
       "553            0.00         7.00  \n",
       "\n",
       "[541 rows x 12 columns]"
      ]
     },
     "execution_count": 28,
     "metadata": {},
     "output_type": "execute_result"
    }
   ],
   "source": [
    "# Library for manipulating dates and times\n",
    "from datetime import datetime\n",
    "from datetime import timedelta\n",
    "\n",
    "# Function to convert features to datetime\n",
    "def date_conversion(df,cols):\n",
    "    for col in cols:\n",
    "        df[col]=df[col].apply(lambda x:x.replace(' +0000 UTC',''))\n",
    "        df[col]= pd.to_datetime(df[col])\n",
    "    return df\n",
    "\n",
    "# Applying date_convertion function to date features \n",
    "date_conversion(trips_df,['request_time', \n",
    "                         'begin_time', \n",
    "                         'dropoff_time'])"
   ]
  },
  {
   "cell_type": "code",
   "execution_count": 29,
   "id": "cd8a3c1a",
   "metadata": {},
   "outputs": [
    {
     "name": "stdout",
     "output_type": "stream",
     "text": [
      "<class 'pandas.core.frame.DataFrame'>\n",
      "Int64Index: 541 entries, 0 to 553\n",
      "Data columns (total 12 columns):\n",
      " #   Column          Non-Null Count  Dtype         \n",
      "---  ------          --------------  -----         \n",
      " 0   city            541 non-null    int64         \n",
      " 1   product_type    541 non-null    object        \n",
      " 2   status          541 non-null    object        \n",
      " 3   request_time    541 non-null    datetime64[ns]\n",
      " 4   begin_time      541 non-null    datetime64[ns]\n",
      " 5   begin_lat       515 non-null    float64       \n",
      " 6   begin_lng       515 non-null    float64       \n",
      " 7   dropoff_time    541 non-null    datetime64[ns]\n",
      " 8   dropoff_lat     515 non-null    float64       \n",
      " 9   dropoff_lng     515 non-null    float64       \n",
      " 10  distance_miles  541 non-null    float64       \n",
      " 11  fare_amount     541 non-null    float64       \n",
      "dtypes: datetime64[ns](3), float64(6), int64(1), object(2)\n",
      "memory usage: 54.9+ KB\n"
     ]
    }
   ],
   "source": [
    "trips_df.info()"
   ]
  },
  {
   "cell_type": "markdown",
   "id": "616cf8e4",
   "metadata": {},
   "source": [
    "***Now, let’s break down <request_time> feature into different date parts. I just did that for <request_time>, since I'm assuming that all rides were completed on the same day (believe me, I have already checked that!).***"
   ]
  },
  {
   "cell_type": "code",
   "execution_count": 30,
   "id": "51226218",
   "metadata": {},
   "outputs": [],
   "source": [
    "trips_df['request_year'] = trips_df['request_time'].map(lambda x:datetime.strftime(x,\"%Y\"))\n",
    "trips_df['request_month'] = trips_df['request_time'].map(lambda x:datetime.strftime(x,\"%b\"))\n",
    "trips_df['request_weekday'] = trips_df['request_time'].map(lambda x:datetime.strftime(x,\"%a\"))\n",
    "trips_df['request_hour'] = trips_df['request_time'].map(lambda x:datetime.strftime(x,\"%H:%M\"))"
   ]
  },
  {
   "cell_type": "code",
   "execution_count": 31,
   "id": "fa94226e",
   "metadata": {},
   "outputs": [
    {
     "data": {
      "text/html": [
       "<div>\n",
       "<style scoped>\n",
       "    .dataframe tbody tr th:only-of-type {\n",
       "        vertical-align: middle;\n",
       "    }\n",
       "\n",
       "    .dataframe tbody tr th {\n",
       "        vertical-align: top;\n",
       "    }\n",
       "\n",
       "    .dataframe thead th {\n",
       "        text-align: right;\n",
       "    }\n",
       "</style>\n",
       "<table border=\"1\" class=\"dataframe\">\n",
       "  <thead>\n",
       "    <tr style=\"text-align: right;\">\n",
       "      <th></th>\n",
       "      <th>city</th>\n",
       "      <th>product_type</th>\n",
       "      <th>status</th>\n",
       "      <th>request_time</th>\n",
       "      <th>begin_time</th>\n",
       "      <th>begin_lat</th>\n",
       "      <th>begin_lng</th>\n",
       "      <th>dropoff_time</th>\n",
       "      <th>dropoff_lat</th>\n",
       "      <th>dropoff_lng</th>\n",
       "      <th>distance_miles</th>\n",
       "      <th>fare_amount</th>\n",
       "      <th>request_year</th>\n",
       "      <th>request_month</th>\n",
       "      <th>request_weekday</th>\n",
       "      <th>request_hour</th>\n",
       "    </tr>\n",
       "  </thead>\n",
       "  <tbody>\n",
       "    <tr>\n",
       "      <th>0</th>\n",
       "      <td>458</td>\n",
       "      <td>Black</td>\n",
       "      <td>COMPLETED</td>\n",
       "      <td>2021-01-13 22:06:46</td>\n",
       "      <td>2021-01-13 22:11:10</td>\n",
       "      <td>-23.599752</td>\n",
       "      <td>-46.715954</td>\n",
       "      <td>2021-01-13 22:29:13</td>\n",
       "      <td>-23.559359</td>\n",
       "      <td>-46.666542</td>\n",
       "      <td>4.84</td>\n",
       "      <td>29.63</td>\n",
       "      <td>2021</td>\n",
       "      <td>Jan</td>\n",
       "      <td>Wed</td>\n",
       "      <td>22:06</td>\n",
       "    </tr>\n",
       "  </tbody>\n",
       "</table>\n",
       "</div>"
      ],
      "text/plain": [
       "   city product_type     status        request_time          begin_time  \\\n",
       "0   458        Black  COMPLETED 2021-01-13 22:06:46 2021-01-13 22:11:10   \n",
       "\n",
       "   begin_lat  begin_lng        dropoff_time  dropoff_lat  dropoff_lng  \\\n",
       "0 -23.599752 -46.715954 2021-01-13 22:29:13   -23.559359   -46.666542   \n",
       "\n",
       "   distance_miles  fare_amount request_year request_month request_weekday  \\\n",
       "0            4.84        29.63         2021           Jan             Wed   \n",
       "\n",
       "  request_hour  \n",
       "0        22:06  "
      ]
     },
     "execution_count": 31,
     "metadata": {},
     "output_type": "execute_result"
    }
   ],
   "source": [
    "trips_df.head(1)"
   ]
  },
  {
   "cell_type": "markdown",
   "id": "35ca6ebb",
   "metadata": {},
   "source": [
    "### 3.3 Feature Engineering: Creating new features\n",
    "\n",
    "***Based on <fare_amount> and <distance_miles> features I've created a new feature called <amount_km>, which would help us understand how much is paid by kilometer ridden.***"
   ]
  },
  {
   "cell_type": "code",
   "execution_count": 32,
   "id": "d78a2935",
   "metadata": {},
   "outputs": [],
   "source": [
    "trips_df['distance_km'] = round(trips_df['distance_miles']*1.60934,2)\n",
    "trips_df['amount_km'] = round((trips_df['fare_amount']/trips_df['distance_miles']),2)"
   ]
  },
  {
   "cell_type": "markdown",
   "id": "ad11b2e8",
   "metadata": {},
   "source": [
    "***Delta time between <request_time> and <begin_time> will let us know how much time (in minutes) I usually waited for Uber cars to arrive at my destination. In this case, it was calculated on a minutes base.***"
   ]
  },
  {
   "cell_type": "code",
   "execution_count": 33,
   "id": "59812edf",
   "metadata": {},
   "outputs": [],
   "source": [
    "trips_df['request_lead_time'] = trips_df['begin_time']-trips_df['request_time']\n",
    "trips_df['request_lead_time'] = trips_df['request_lead_time'].apply(lambda x:round(x.total_seconds()/60,1))"
   ]
  },
  {
   "cell_type": "markdown",
   "id": "8c41dbf8",
   "metadata": {},
   "source": [
    "***Similarly, the delta time between <dropoff_time> and <begin_time> will let us know how much time (in minutes) was spent on each trip.***"
   ]
  },
  {
   "cell_type": "code",
   "execution_count": 34,
   "id": "19166ec7",
   "metadata": {},
   "outputs": [],
   "source": [
    "trips_df['trip_duration'] = trips_df.dropoff_time - trips_df.begin_time\n",
    "trips_df['trip_duration'] = trips_df['trip_duration'].apply(lambda x: round(x.total_seconds()/60,1))"
   ]
  },
  {
   "cell_type": "markdown",
   "id": "2769391a",
   "metadata": {},
   "source": [
    "***As features in records with Canceled and Driver_Cancelled status will not be useful for my analysis, I set them as null values to clean up a little bit more in my dataset.***"
   ]
  },
  {
   "cell_type": "code",
   "execution_count": 35,
   "id": "bd0a3c4a",
   "metadata": {},
   "outputs": [
    {
     "data": {
      "text/plain": [
       "COMPLETED          444\n",
       "CANCELED            87\n",
       "DRIVER_CANCELED     10\n",
       "Name: status, dtype: int64"
      ]
     },
     "execution_count": 35,
     "metadata": {},
     "output_type": "execute_result"
    }
   ],
   "source": [
    "trips_df.status.value_counts()"
   ]
  },
  {
   "cell_type": "code",
   "execution_count": 36,
   "id": "c6f1e9b6",
   "metadata": {},
   "outputs": [],
   "source": [
    "completed_rides = trips_df[(trips_df['status']!='CANCELED')&(trips_df['status']!='DRIVER_CANCELED')]"
   ]
  },
  {
   "cell_type": "markdown",
   "id": "a6bf46f0",
   "metadata": {},
   "source": [
    "## 4. Data Analysis & Storytelling: It’s show time!\n",
    "\n",
    "**RECOMMENDATION:** Do not start your analysis without completing the Business Problem Definition, since it determines your analysis’ focus and quality. Besides that, this process will help you to think about new possibilities/questions while trying to answer the previous ones set.\n",
    "\n",
    "**NOTE:** In order to organize better my analysis, I will create an additional data frame, removing all trips with status CANCELED and DRIVER_CANCELED, since they should be disregarded from some questions."
   ]
  },
  {
   "cell_type": "markdown",
   "id": "0c08c7d2",
   "metadata": {},
   "source": [
    "### 1. How many trips have I done over the years?\n",
    "\n",
    "A total of 444 trips were completed from Apr’16 to Jan’21. If we disregard 2016 and 2021 (not full years), we can clearly see that from 2017 to 2019 the average number of rides per year is 124, and that there is a huge drop from 2019 to 2020 (-51%). This is easily explained by the COVID outbreak.\n",
    "\n",
    "Now, imagine if we extrapolate this result to all Uber users…"
   ]
  },
  {
   "cell_type": "code",
   "execution_count": 37,
   "id": "0a87e496",
   "metadata": {},
   "outputs": [
    {
     "name": "stdout",
     "output_type": "stream",
     "text": [
      "Total trips:  444\n",
      "2016     17\n",
      "2017    120\n",
      "2018    146\n",
      "2019    106\n",
      "2020     52\n",
      "2021      3\n",
      "Name: request_year, dtype: int64\n"
     ]
    },
    {
     "data": {
      "image/png": "[encoded data removed]",
      "text/plain": [
       "<Figure size 640x480 with 1 Axes>"
      ]
     },
     "metadata": {},
     "output_type": "display_data"
    }
   ],
   "source": [
    "print('Total trips: ', completed_rides.status.count())\n",
    "print(completed_rides['request_year'].value_counts().sort_index(ascending=True))\n",
    "sns.countplot(data=completed_rides,x='request_year',order=['2016','2017','2018','2019','2020','2021'],palette='pastel')\n",
    "plt.show()"
   ]
  },
  {
   "cell_type": "markdown",
   "id": "b0984d31",
   "metadata": {},
   "source": [
    "### 2. How many trips were completed or canceled?\n",
    "\n",
    "Looking at the stacked bars below, we can see that excluding 2015 and 2021 (due to low trip volume), 2020 has the highest cancelation rate. This could be an alarming indicator, considering the drastic impact caused to the businesses after the Covid outbreak. Overall, the cancelation rate was 17.9% (considering RIDERS and DRIVERS cancelations)."
   ]
  },
  {
   "cell_type": "code",
   "execution_count": 38,
   "id": "2a3eb542",
   "metadata": {},
   "outputs": [
    {
     "name": "stdout",
     "output_type": "stream",
     "text": [
      "Total Trips:  444\n",
      "COMPLETED          0.82\n",
      "CANCELED           0.16\n",
      "DRIVER_CANCELED    0.02\n",
      "Name: status, dtype: float64\n"
     ]
    }
   ],
   "source": [
    "print('Total Trips: ',completed_rides['status'].count())\n",
    "\n",
    "print(round(trips_df['status'].value_counts(normalize=True),2))"
   ]
  },
  {
   "cell_type": "code",
   "execution_count": 39,
   "id": "f323a43d",
   "metadata": {},
   "outputs": [
    {
     "data": {
      "text/plain": [
       "<AxesSubplot:xlabel='request_year'>"
      ]
     },
     "execution_count": 39,
     "metadata": {},
     "output_type": "execute_result"
    },
    {
     "data": {
      "image/png": "[encoded data removed]",
      "text/plain": [
       "<Figure size 640x480 with 1 Axes>"
      ]
     },
     "metadata": {},
     "output_type": "display_data"
    }
   ],
   "source": [
    "trips_df.groupby(by=['request_year'])\\\n",
    "['status'].value_counts(normalize=True).unstack('status').plot.bar(stacked=True)"
   ]
  },
  {
   "cell_type": "markdown",
   "id": "2eec0fd2",
   "metadata": {},
   "source": [
    "### 3. Where did most of the dropoffs occur?\n",
    "\n",
    "The following heatmap dynamically shows the most frequented areas throughout different hues and intensities. This could be valuable information for Uber to adjust prices and optimize demand in certain regions, also combining time-space data to track users' behaviors."
   ]
  },
  {
   "cell_type": "code",
   "execution_count": 40,
   "id": "e094f234",
   "metadata": {},
   "outputs": [
    {
     "name": "stdout",
     "output_type": "stream",
     "text": [
      "Requirement already satisfied: folium in c:\\users\\home pc\\anaconda3\\lib\\site-packages (0.14.0)\n",
      "Requirement already satisfied: jinja2>=2.9 in c:\\users\\home pc\\anaconda3\\lib\\site-packages (from folium) (2.11.3)\n",
      "Requirement already satisfied: numpy in c:\\users\\home pc\\anaconda3\\lib\\site-packages (from folium) (1.21.5)\n",
      "Requirement already satisfied: requests in c:\\users\\home pc\\anaconda3\\lib\\site-packages (from folium) (2.28.1)\n",
      "Requirement already satisfied: branca>=0.6.0 in c:\\users\\home pc\\anaconda3\\lib\\site-packages (from folium) (0.6.0)\n",
      "Requirement already satisfied: MarkupSafe>=0.23 in c:\\users\\home pc\\anaconda3\\lib\\site-packages (from jinja2>=2.9->folium) (2.0.1)\n",
      "Requirement already satisfied: idna<4,>=2.5 in c:\\users\\home pc\\anaconda3\\lib\\site-packages (from requests->folium) (3.3)\n",
      "Requirement already satisfied: urllib3<1.27,>=1.21.1 in c:\\users\\home pc\\anaconda3\\lib\\site-packages (from requests->folium) (1.26.11)\n",
      "Requirement already satisfied: charset-normalizer<3,>=2 in c:\\users\\home pc\\anaconda3\\lib\\site-packages (from requests->folium) (2.0.4)\n",
      "Requirement already satisfied: certifi>=2017.4.17 in c:\\users\\home pc\\anaconda3\\lib\\site-packages (from requests->folium) (2022.9.14)\n"
     ]
    }
   ],
   "source": [
    "!pip install folium"
   ]
  },
  {
   "cell_type": "code",
   "execution_count": 41,
   "id": "926dfc87",
   "metadata": {},
   "outputs": [
    {
     "data": {
      "text/html": [
       "<div style=\"width:100%;\"><div style=\"position:relative;width:100%;height:0;padding-bottom:60%;\"><span style=\"color:#565656\">Make this Notebook Trusted to load map: File -> Trust Notebook</span><iframe srcdoc=\"&lt;!DOCTYPE html&gt;\n",
       "&lt;html&gt;\n",
       "&lt;head&gt;\n",
       "    \n",
       "    &lt;meta http-equiv=&quot;content-type&quot; content=&quot;text/html; charset=UTF-8&quot; /&gt;\n",
       "    \n",
       "        &lt;script&gt;\n",
       "            L_NO_TOUCH = false;\n",
       "            L_DISABLE_3D = false;\n",
       "        &lt;/script&gt;\n",
       "    \n",
       "    &lt;style&gt;html, body {width: 100%;height: 100%;margin: 0;padding: 0;}&lt;/style&gt;\n",
       "    &lt;style&gt;#map {position:absolute;top:0;bottom:0;right:0;left:0;}&lt;/style&gt;\n",
       "    &lt;script src=&quot;https://cdn.jsdelivr.net/npm/leaflet@1.9.3/dist/leaflet.js&quot;&gt;&lt;/script&gt;\n",
       "    &lt;script src=&quot;https://code.jquery.com/jquery-1.12.4.min.js&quot;&gt;&lt;/script&gt;\n",
       "    &lt;script src=&quot;https://cdn.jsdelivr.net/npm/bootstrap@5.2.2/dist/js/bootstrap.bundle.min.js&quot;&gt;&lt;/script&gt;\n",
       "    &lt;script src=&quot;https://cdnjs.cloudflare.com/ajax/libs/Leaflet.awesome-markers/2.0.2/leaflet.awesome-markers.js&quot;&gt;&lt;/script&gt;\n",
       "    &lt;link rel=&quot;stylesheet&quot; href=&quot;https://cdn.jsdelivr.net/npm/leaflet@1.9.3/dist/leaflet.css&quot;/&gt;\n",
       "    &lt;link rel=&quot;stylesheet&quot; href=&quot;https://cdn.jsdelivr.net/npm/bootstrap@5.2.2/dist/css/bootstrap.min.css&quot;/&gt;\n",
       "    &lt;link rel=&quot;stylesheet&quot; href=&quot;https://netdna.bootstrapcdn.com/bootstrap/3.0.0/css/bootstrap.min.css&quot;/&gt;\n",
       "    &lt;link rel=&quot;stylesheet&quot; href=&quot;https://cdn.jsdelivr.net/npm/@fortawesome/fontawesome-free@6.2.0/css/all.min.css&quot;/&gt;\n",
       "    &lt;link rel=&quot;stylesheet&quot; href=&quot;https://cdnjs.cloudflare.com/ajax/libs/Leaflet.awesome-markers/2.0.2/leaflet.awesome-markers.css&quot;/&gt;\n",
       "    &lt;link rel=&quot;stylesheet&quot; href=&quot;https://cdn.jsdelivr.net/gh/python-visualization/folium/folium/templates/leaflet.awesome.rotate.min.css&quot;/&gt;\n",
       "    \n",
       "            &lt;meta name=&quot;viewport&quot; content=&quot;width=device-width,\n",
       "                initial-scale=1.0, maximum-scale=1.0, user-scalable=no&quot; /&gt;\n",
       "            &lt;style&gt;\n",
       "                #map_608145dbd86ee38957320dd63764b460 {\n",
       "                    position: relative;\n",
       "                    width: 80.0%;\n",
       "                    height: 50.0%;\n",
       "                    left: 0.0%;\n",
       "                    top: 0.0%;\n",
       "                }\n",
       "                .leaflet-container { font-size: 1rem; }\n",
       "            &lt;/style&gt;\n",
       "        \n",
       "    &lt;script src=&quot;https://cdn.jsdelivr.net/gh/python-visualization/folium@main/folium/templates/leaflet_heat.min.js&quot;&gt;&lt;/script&gt;\n",
       "&lt;/head&gt;\n",
       "&lt;body&gt;\n",
       "    \n",
       "    \n",
       "            &lt;div class=&quot;folium-map&quot; id=&quot;map_608145dbd86ee38957320dd63764b460&quot; &gt;&lt;/div&gt;\n",
       "        \n",
       "&lt;/body&gt;\n",
       "&lt;script&gt;\n",
       "    \n",
       "    \n",
       "            var map_608145dbd86ee38957320dd63764b460 = L.map(\n",
       "                &quot;map_608145dbd86ee38957320dd63764b460&quot;,\n",
       "                {\n",
       "                    center: [-23.5489, -46.6388],\n",
       "                    crs: L.CRS.EPSG3857,\n",
       "                    zoom: 7,\n",
       "                    zoomControl: true,\n",
       "                    preferCanvas: false,\n",
       "                }\n",
       "            );\n",
       "            L.control.scale().addTo(map_608145dbd86ee38957320dd63764b460);\n",
       "\n",
       "            \n",
       "\n",
       "        \n",
       "    \n",
       "            var tile_layer_73ba604b0a89c5ec44be59ffdec66aae = L.tileLayer(\n",
       "                &quot;https://stamen-tiles-{s}.a.ssl.fastly.net/terrain/{z}/{x}/{y}.jpg&quot;,\n",
       "                {&quot;attribution&quot;: &quot;Map tiles by \\u003ca target=\\&quot;_blank\\&quot; href=\\&quot;http://stamen.com\\&quot;\\u003eStamen Design\\u003c/a\\u003e, under \\u003ca target=\\&quot;_blank\\&quot; href=\\&quot;http://creativecommons.org/licenses/by/3.0\\&quot;\\u003eCC BY 3.0\\u003c/a\\u003e. Data by \\u0026copy; \\u003ca target=\\&quot;_blank\\&quot; href=\\&quot;http://openstreetmap.org\\&quot;\\u003eOpenStreetMap\\u003c/a\\u003e, under \\u003ca target=\\&quot;_blank\\&quot; href=\\&quot;http://creativecommons.org/licenses/by-sa/3.0\\&quot;\\u003eCC BY SA\\u003c/a\\u003e.&quot;, &quot;detectRetina&quot;: false, &quot;maxNativeZoom&quot;: 18, &quot;maxZoom&quot;: 18, &quot;minZoom&quot;: 0, &quot;noWrap&quot;: false, &quot;opacity&quot;: 1, &quot;subdomains&quot;: &quot;abc&quot;, &quot;tms&quot;: false}\n",
       "            ).addTo(map_608145dbd86ee38957320dd63764b460);\n",
       "        \n",
       "    \n",
       "            var heat_map_43dae8573bb2952248df6ba79bccdc89 = L.heatLayer(\n",
       "                [[-23.559359, -46.666542], [-23.599585, -46.715717], [-23.559273, -46.666595], [-23.425755, -46.48119], [-23.559261, -46.66651], [-23.6245, -46.701077], [-23.559233, -46.666546], [-23.559366, -46.666637], [-23.54775, -46.644104], [-23.559292, -46.66655], [-23.567545, -46.66403], [-23.559343, -46.666496], [-23.566214, -46.675385], [-23.56196, -46.65819], [-23.624607, -46.701088], [-23.55949, -46.66645], [-23.624554, -46.701042], [-23.5593595, -46.6665002], [-23.6245499, -46.7011459], [-23.6245747, -46.701121], [-23.5594793, -46.6664565], [-23.6247021, -46.7009501], [-23.6244897, -46.7009874], [-23.6249448, -46.7013194], [-23.5593722, -46.6664251], [-23.6249106, -46.7006571], [-23.5595624, -46.6665394], [-23.6245325, -46.7010044], [-23.6245682, -46.7009553], [-23.5594719, -46.6664113], [-23.6246338, -46.7009416], [-23.55945, -46.66646], [-23.6245219, -46.7011361], [-23.5897694, -46.6340214], [-23.568199, -46.6481043], [-23.5593779, -46.6664841], [-23.6245191, -46.7010364], [-23.624603, -46.7009155], [-23.6245406, -46.7011174], [-23.624573, -46.7009811], [-23.554227, -46.6560723], [-23.6245017, -46.700992], [-23.6245215, -46.7011146], [-23.6245334, -46.7010361], [-23.6245533, -46.700999], [-23.6245483, -46.7007607], [-23.5592766, -46.6666408], [-23.6245632, -46.7011078], [-23.5592925, -46.6664492], [-23.5593245, -46.6665357], [-23.6245428, -46.7010183], [-23.6244904, -46.7009642], [-23.5593177, -46.6664697], [-23.5897198, -46.6340898], [-23.6247, -46.70114], [-23.5593471, -46.6663865], [-23.5599594, -46.6966915], [-23.6236397, -46.6996955], [-23.5666085, -46.679704], [-23.6246805, -46.700688], [-23.5595676, -46.6651815], [-23.6245537, -46.7009911], [-23.6246039, -46.7011292], [-23.5593657, -46.6664886], [-23.6246512, -46.7012253], [-23.5593573, -46.6666084], [-23.62508, -46.70083], [-23.5591479, -46.6665651], [-23.49942, -46.83712], [-23.5681581, -46.648213], [-23.5513271, -46.6782767], [-23.55944, -46.66647], [-23.6251984, -46.7009311], [-23.6328069, -46.6934561], [-23.559358, -46.6664925], [-23.5897093, -46.6341447], [-23.5838811, -46.6736383], [-23.5630458, -46.6726512], [-23.5593337, -46.6665488], [-23.6112972, -46.5707363], [-23.5898961, -46.6347077], [-23.564655, -46.6803749], [-23.5897394, -46.6339828], [-23.5901449, -46.634857], [-23.5925744, -46.6485508], [-23.6113086, -46.5708697], [-23.61126, -46.57101], [-23.6111714, -46.571065], [-23.6111541, -46.5710089], [-23.5897361, -46.6342802], [-23.5593949, -46.6665817], [-23.5578081, -46.6817216], [-23.6113211, -46.5707727], [-23.6112737, -46.570818], [-23.5896776, -46.6339224], [-23.6114832, -46.570899], [-23.61135, -46.57091], [-23.6113042, -46.5708159], [-23.6113413, -46.5707881], [-23.6113665, -46.5709412], [-23.6114896, -46.5708406], [-23.5594191, -46.6663381], [-23.5688799, -46.6610875], [-23.611196, -46.571191], [-23.6235222, -46.5656995], [-23.61148, -46.57081], [-23.5897059, -46.6340259], [-23.5765285, -46.657221], [-23.6113663, -46.57086], [-23.6234363, -46.5657323], [-23.6114641, -46.570791], [-23.5813131, -46.6805361], [-23.55931, -46.66663], [-23.56342, -46.65128], [-23.5593653, -46.6664751], [-23.6114347, -46.5707262], [-23.6235879, -46.5657363], [-23.6190552, -46.5656031], [-23.611284, -46.5710134], [-23.6114657, -46.5707776], [-23.6113924, -46.570781], [-23.6113489, -46.5708553], [-23.589699, -46.6338321], [-23.5897046, -46.6342625], [-23.5593208, -46.6665461], [-23.499651, -46.6443482], [-23.5897766, -46.6350174], [-23.5718541, -46.6435307], [-23.5897042, -46.6340583], [-23.5592778, -46.6664928], [-23.5897152, -46.6339973], [-23.56548, -46.66629], [-23.5897333, -46.6340835], [-23.6267726, -46.5798585], [-23.6114035, -46.5707249], [-23.5897353, -46.6342724], [-23.5691332, -46.6602163], [-23.5593737, -46.6663778], [-23.5897415, -46.6342876], [-23.589711, -46.6341624], [-23.5899127, -46.6347363], [-23.5552, -46.65715], [-23.5610824, -46.6920423], [-23.5706603, -46.693383], [-23.5897971, -46.634184], [-23.6113438, -46.570978], [-23.5896775, -46.6342089], [-23.5592277, -46.6631332], [-23.58854, -46.67881], [-23.5691248, -46.6612174], [-23.58967, -46.634], [-23.5593764, -46.6631889], [-23.5462117, -46.6486085], [-23.5896768, -46.6341683], [-23.6090984, -46.6666032], [-23.6114817, -46.5706559], [-23.6114035, -46.5708554], [-23.61151, -46.57074], [-23.5592587, -46.66303], [-23.5897222, -46.6341299], [-23.5690166, -46.661077], [-23.5593704, -46.6632237], [-23.5368778, -46.6634445], [-23.6114086, -46.5707626], [-23.5036558, -46.6370967], [-23.5139202, -46.6191831], [-23.5144517, -46.6163633], [-23.5690601, -46.6611127], [-23.5036539, -46.6371543], [-23.5617133, -46.658159], [-23.55575, -46.6552617], [-23.5593646, -46.6632126], [-23.5542748, -46.6561255], [-23.5592926, -46.6631932], [-23.5593606, -46.6631198], [-23.5716401, -46.6882496], [-23.56023173, -46.66414962], [-23.5033043, -46.636905], [-23.6113175, -46.5708262], [-23.5593419, -46.6632209], [-23.5619878, -46.6582328], [-23.6116444, -46.5705324], [-23.5589855, -46.6632146], [-23.61134745, -46.57079129], [-23.5036425, -46.6371866], [-23.6105865, -46.570705], [-23.5036788, -46.637129], [-23.5037043, -46.6327645], [-23.5621533, -46.6578083], [-23.6190601, -46.5656531], [-23.611265, -46.57126], [-23.5690588, -46.6611788], [-23.5035722, -46.6373399], [-23.6111067, -46.5710737], [-23.5034274, -46.637272], [-23.5630296, -46.6670311], [-23.5736364, -46.6556252], [-23.5970083, -46.5748443], [-23.5592227, -46.6632374], [-23.5536201, -46.6942272], [-23.5595104, -46.663229], [-23.503677, -46.6368987], [-23.55945, -46.6632417], [-23.5592518, -46.6630182], [-23.5577831, -46.6898198], [-23.5594317, -46.6633173], [-23.5867741, -46.642758], [-23.6113574, -46.5708662], [-23.5035759, -46.6371187], [-23.61134558, -46.57091107], [-23.503661, -46.6371771], [-23.6113811, -46.5707523], [-23.6114569, -46.5707386], [-23.5036469, -46.6371567], [-23.5032638, -46.6246263], [-23.5592879, -46.6632155], [-23.5036424, -46.6369836], [-23.6113486, -46.5709126], [-23.5601571, -46.6774145], [-23.6111022, -46.57182], [-23.6112414, -46.5708448], [-23.5693051, -46.6599246], [-23.5583273, -46.6605763], [-23.5594438, -46.6633356], [-23.5593885, -46.6632331], [-23.611314, -46.57088793], [-23.5594235, -46.6633392], [-23.5036409, -46.6373103], [-23.5032905, -46.6369492], [-23.5032564, -46.6367743], [-23.5588653, -46.6908072], [-23.6114303, -46.57086], [-23.5834123, -46.6704481], [-23.5035727, -46.63709984], [-23.6234972, -46.5657367], [-23.5033104, -46.6368075], [-23.5618476, -46.6581413], [-23.5032674, -46.6369022], [-23.5034429, -46.6377608], [-23.5578202, -46.689901], [-23.5019996, -46.6273084], [-23.5032578, -46.6367459], [-23.5032054, -46.6370109], [-23.5575996, -46.6895355], [-23.5032828, -46.6368119], [-23.5032569, -46.6370334], [-23.5032128, -46.6379457], [-23.61105, -46.6948029], [-23.6112101, -46.5710416], [-23.6019667, -46.6736382], [-23.5032583, -46.6368603], [-23.5036192, -46.6371554], [-23.5564554, -46.7502916], [-23.5610276, -46.6826267], [-23.5036494, -46.6371391], [-23.5034208, -46.6368915], [-23.5031981, -46.6372663], [-23.5032457, -46.6366457], [-23.6467813, -46.6304311], [-23.5612468, -46.6565113], [-23.503257, -46.6375048], [-23.5032553, -46.6375279], [-23.5032685, -46.6367701], [-23.546632, -46.6042337], [-23.5954224, -46.6907119], [-23.5032237, -46.6370332], [-23.5025158, -46.6364897], [-23.5033975, -46.6366088], [-23.50243945, -46.63649619], [-23.5032727, -46.636787], [-23.5032013, -46.6377976], [-23.5036221, -46.6371587], [-23.6114767, -46.5707417], [-23.503197, -46.6368611], [-23.6111316, -46.5711237], [-23.6234899, -46.5656824], [-23.5032882, -46.6367482], [-23.503291, -46.636849], [-23.5032675, -46.6369339], [-23.5951242, -46.691146], [-23.5595898, -46.6890604], [-23.5032008, -46.6375932], [-23.5032163, -46.6377011], [-23.4321942, -45.068019], [-23.5032193, -46.6377141], [-23.5035504, -46.6374929], [-23.5617439, -46.657929], [-23.5036461, -46.6371739], [-23.5039759, -46.639198], [-23.5181919, -46.6766396], [-23.5035167, -46.637355], [-23.5036583, -46.6368817], [-23.5036722, -46.6372957], [-23.5036414, -46.6367785], [-23.5938773, -46.6912427], [-23.5033387, -46.6372134], [-23.5033095, -46.6372907], [-23.5033634, -46.6369551], [-23.530175, -46.666265], [-23.5036347, -46.637124], [-23.503322, -46.6366226], [-23.4878848, -46.5947091], [-23.5578345, -46.6898763], [-23.503591, -46.6371741], [-23.5823728, -46.6644769], [-23.5616819, -46.658152], [-23.5037175, -46.6371653], [-23.9758385, -46.3011899], [-23.5032566, -46.6371156], [-23.6107181, -46.5702805], [-23.5033627, -46.63673], [-23.503292, -46.6372564], [-23.5032173, -46.6376465], [-23.503255, -46.6373243], [-23.5034308, -46.6364732], [-23.6113615, -46.5708377], [-23.50326, -46.6370583], [-23.9753716, -46.3008707], [-23.9547153, -46.346224], [-23.9757989, -46.301236], [-23.5032583, -46.6372733], [-23.5032044, -46.6368571], [-23.5033071, -46.6370396], [-23.50330782, -46.63752702], [-23.62207, -46.56985], [-23.5032122, -46.637111], [-23.5031903, -46.6368144], [-23.5036026, -46.6373307], [-23.4805317, -46.6064783], [-23.5033132, -46.6366607], [-23.5157182, -46.619488], [-23.503614, -46.6372977], [-23.5032991, -46.6371265], [-23.503618, -46.6373007], [-23.60177075, -46.67760154], [-23.5032867, -46.6366951], [-23.5032866, -46.6368266], [-23.50329369, -46.6367841], [-23.58443324, -46.60516321], [-23.5032916, -46.6371331], [-23.5033033, -46.636945], [-23.5036273, -46.6368185], [-23.503278, -46.6368498], [-23.5033267, -46.6367883], [-23.5033084, -46.6373163], [-23.5032959, -46.6372827], [-23.5032841, -46.6373566], [-23.5031, -46.63692], [-23.503335, -46.636675], [-23.5032604, -46.6367601], [-23.6108178, -46.5702857], [-23.503289, -46.6369199], [-23.6111832, -46.5706626], [-23.5032849, -46.6373822], [-23.6115179, -46.5706344], [-23.5032458, -46.6367602], [-23.5032714, -46.6376718], [-23.6220504, -46.5701294], [-23.5036595, -46.6368117], [-23.6113573, -46.5707287], [-23.5047575, -46.628152], [-23.50331184, -46.63734066], [-23.6037844, -46.6446635], [-23.6112857, -46.5707956], [-23.503144, -46.6368201], [-23.5032976, -46.635072], [-23.6114053, -46.6679377], [-23.5032706, -46.6368144], [-23.5034537, -46.6381879], [-23.5032248, -46.6369166], [-23.5032941, -46.6369395], [-23.5033833, -46.63302], [-23.503285, -46.6379517], [-23.503305, -46.6368483], [-23.5585955, -46.6599003], [-23.5033176, -46.6369607], [-23.5033084, -46.6370028], [-23.6117808, -46.5695641], [-23.6028056, -46.6743477], [-23.6114159, -46.570721], [-23.6110598, -46.5710098], [-23.61111, -46.57121], [-23.61129, -46.5710217], [-23.61133, -46.57136], [-23.6114714, -46.5706741], [-23.6111852, -46.5710471], [-23.6114917, -46.570635], [-23.6111476, -46.571028], [-23.6111476, -46.5709583], [-23.6111639, -46.5708754], [-23.6113337, -46.5707646], [-23.6112529, -46.5710238], [-23.6115989, -46.5706637], [-23.6112042, -46.5710673], [-23.6113167, -46.5708367], [-23.6111309, -46.5712652], [-23.6110929, -46.5711355], [-23.6111595, -46.571014], [-23.6026476, -46.6453556], [-23.6111404, -46.5712019], [-23.6027646, -46.6451823], [-23.565888, -46.6846089], [-23.6111281, -46.5708975], [-23.6111639, -46.5710143], [-23.6109405, -46.5708151], [-23.6110963, -46.5711048], [-23.6111624, -46.5710234], [-23.6111472, -46.5712045], [-23.6110169, -46.5711359], [-23.6111973, -46.5710136], [-23.6025022, -46.6450023], [-23.6111199, -46.5710629], [-23.6112753, -46.5708652], [-23.6113567, -46.5709017], [-23.6110715, -46.5709414], [-23.5976648, -46.6235027], [-23.61124989, -46.57104947], [-23.5740178, -46.6961832], [-23.5934814, -46.6527237], [-23.6205906, -46.6622467], [-23.6027117, -46.6453367], [-23.6110017, -46.5711467], [-23.6111864, -46.5710514], [-23.6029511, -46.645261], [-23.6111339, -46.5717526], [-23.6112239, -46.5710056], [-23.6108462, -46.5714736], [-23.6026436, -46.645322], [-23.61320343, -46.57176448], [-23.6112543, -46.5708784], [-23.6111272, -46.5709949], [-23.61118154, -46.57110295], [-22.9030567, -43.1346819], [-22.9020982, -43.114359], [-23.6026564, -46.6450948], [-23.60262936, -46.64534986], [-23.6026706, -46.6650192], [-23.6110216, -46.571107], [-23.6135612, -46.5763797], [-23.6026544, -46.6453572], [-23.6160678, -46.665922], [-23.6027604, -46.6448974], [-23.6027366, -46.6453516], [-23.5695488, -46.6724122]],\n",
       "                {&quot;blur&quot;: 15, &quot;maxZoom&quot;: 18, &quot;minOpacity&quot;: 0.5, &quot;radius&quot;: 25}\n",
       "            ).addTo(map_608145dbd86ee38957320dd63764b460);\n",
       "        \n",
       "&lt;/script&gt;\n",
       "&lt;/html&gt;\" style=\"position:absolute;width:100%;height:100%;left:0;top:0;border:none !important;\" allowfullscreen webkitallowfullscreen mozallowfullscreen></iframe></div></div>"
      ],
      "text/plain": [
       "<folium.folium.Map at 0x24603544eb0>"
      ]
     },
     "execution_count": 41,
     "metadata": {},
     "output_type": "execute_result"
    }
   ],
   "source": [
    "import folium\n",
    "from folium import plugins\n",
    "\n",
    "coord=[]\n",
    "for lat,lng in zip(completed_rides.dropoff_lat.values,completed_rides.dropoff_lng.values):\n",
    "     coord.append([lat,lng])\n",
    "\n",
    "map = folium.Map(\n",
    "    location=[-23.5489,-46.6388],\n",
    "    tiles='Stamen Terrain',\n",
    "    zoom_start=7,\n",
    "    width='80%', \n",
    "    height='50%',\n",
    "    control_scale=True)\n",
    "\n",
    "map.add_child(plugins.HeatMap(coord))\n",
    "map"
   ]
  },
  {
   "cell_type": "markdown",
   "id": "5636d3d5",
   "metadata": {},
   "source": [
    "### 4. What product type was usually chosen?\n",
    "\n",
    "UberX was by far the preferred product type with a frequency of 90.3%. So I could probably infer that I am the type of user who usually looks for affordable prices."
   ]
  },
  {
   "cell_type": "code",
   "execution_count": 42,
   "id": "a321c0e7",
   "metadata": {},
   "outputs": [
    {
     "name": "stdout",
     "output_type": "stream",
     "text": [
      "       product_type     %\n",
      "UberX           401  90.3\n",
      "Pool             39   8.8\n",
      "Black             4   0.9\n"
     ]
    },
    {
     "data": {
      "image/png": "[encoded data removed]",
      "text/plain": [
       "<Figure size 640x480 with 1 Axes>"
      ]
     },
     "metadata": {},
     "output_type": "display_data"
    }
   ],
   "source": [
    "pt_rides = pd.Series(completed_rides.product_type.value_counts()).sort_index(ascending=False)\n",
    "# Transforming serie in dataframe\n",
    "df = pd.DataFrame(pt_rides)\n",
    "# Including new column with trips portion\n",
    "df['%'] = \\\n",
    "(completed_rides.product_type.value_counts(). \\\n",
    " sort_index(ascending=False)/completed_rides. \\\n",
    " product_type.size*100).round(1)\n",
    "print(df)\n",
    "\n",
    "# Plotting product types count:\n",
    "completed_rides['product_type'].value_counts().plot(kind='bar')\n",
    "plt.show()"
   ]
  },
  {
   "cell_type": "markdown",
   "id": "21fad5ae",
   "metadata": {},
   "source": [
    "### 5. What was the average fare, distance, amount, and time spent on rides?\n",
    "\n",
    "Considering all trips, the average amount spent per trip is 19.2 BRL, ridding in approx. 8.1 km. So, if we do a quick simulation on how much I would spend in a year to do daily round trips we would have: 365 days * 2 trips * 19.2 BRL/fare = 14,016 BRL/year\n",
    "\n",
    "Also on average, It was spent approx. 2.4 BRL/km and 21.4 minutes by trip."
   ]
  },
  {
   "cell_type": "code",
   "execution_count": 43,
   "id": "050a2c48",
   "metadata": {},
   "outputs": [
    {
     "name": "stdout",
     "output_type": "stream",
     "text": [
      "Avg. fare: 19.2 BRL\n",
      "Avg. distance: 8.1 km\n",
      "Avg. fare/km: 2.4 BRL/km\n",
      "Avg. time spent on trips: 21.4 minutes\n",
      "\n",
      "Total fare amount: 8532.8 BRL\n",
      "Total distance: 3575.0 km\n",
      "Total time spent on trips: 158.4 hours\n"
     ]
    }
   ],
   "source": [
    "print('Avg. fare:',round(completed_rides['fare_amount'].mean(),1),'BRL')\n",
    "print('Avg. distance:',round(completed_rides.distance_km.mean(),1),'km')\n",
    "print('Avg. fare/km:',round(completed_rides.fare_amount.sum()/completed_rides.distance_km.sum(),1),'BRL/km')\n",
    "\n",
    "print('Avg. time spent on trips:',round(completed_rides.trip_duration.mean(),1),'minutes')\n",
    "print('')\n",
    "print('Total fare amount:', round(completed_rides.fare_amount.sum(),1),'BRL')\n",
    "print('Total distance:',round(completed_rides.distance_km.sum(),1),'km')\n",
    "print('Total time spent on trips:',round(completed_rides.trip_duration.sum()/60,1),'hours')"
   ]
  },
  {
   "cell_type": "markdown",
   "id": "fb73a6ab",
   "metadata": {},
   "source": [
    "### 6. Which weekdays had the highest average fares per km ridden?\n",
    "\n",
    "According to the chart below, we can see that Mondays, Wednesdays, Fridays and Sundays were on average the most expensive weekdays. Therefore, it allows us to better understand the weekly seasonality, and find out days with higher profitability for Uber and its drivers."
   ]
  },
  {
   "cell_type": "code",
   "execution_count": 44,
   "id": "b7a066b9",
   "metadata": {},
   "outputs": [
    {
     "data": {
      "text/html": [
       "<div>\n",
       "<style scoped>\n",
       "    .dataframe tbody tr th:only-of-type {\n",
       "        vertical-align: middle;\n",
       "    }\n",
       "\n",
       "    .dataframe tbody tr th {\n",
       "        vertical-align: top;\n",
       "    }\n",
       "\n",
       "    .dataframe thead th {\n",
       "        text-align: right;\n",
       "    }\n",
       "</style>\n",
       "<table border=\"1\" class=\"dataframe\">\n",
       "  <thead>\n",
       "    <tr style=\"text-align: right;\">\n",
       "      <th>request_weekday</th>\n",
       "      <th>Mon</th>\n",
       "      <th>Tue</th>\n",
       "      <th>Wed</th>\n",
       "      <th>Thu</th>\n",
       "      <th>Fri</th>\n",
       "      <th>Sat</th>\n",
       "      <th>Sun</th>\n",
       "    </tr>\n",
       "    <tr>\n",
       "      <th>request_year</th>\n",
       "      <th></th>\n",
       "      <th></th>\n",
       "      <th></th>\n",
       "      <th></th>\n",
       "      <th></th>\n",
       "      <th></th>\n",
       "      <th></th>\n",
       "    </tr>\n",
       "  </thead>\n",
       "  <tbody>\n",
       "    <tr>\n",
       "      <th>2016</th>\n",
       "      <td>NaN</td>\n",
       "      <td>NaN</td>\n",
       "      <td>2.8</td>\n",
       "      <td>2.4</td>\n",
       "      <td>NaN</td>\n",
       "      <td>2.1</td>\n",
       "      <td>2.9</td>\n",
       "    </tr>\n",
       "    <tr>\n",
       "      <th>2017</th>\n",
       "      <td>2.8</td>\n",
       "      <td>2.1</td>\n",
       "      <td>2.4</td>\n",
       "      <td>2.2</td>\n",
       "      <td>2.7</td>\n",
       "      <td>2.1</td>\n",
       "      <td>2.7</td>\n",
       "    </tr>\n",
       "    <tr>\n",
       "      <th>2018</th>\n",
       "      <td>2.0</td>\n",
       "      <td>1.9</td>\n",
       "      <td>2.6</td>\n",
       "      <td>2.0</td>\n",
       "      <td>2.2</td>\n",
       "      <td>2.4</td>\n",
       "      <td>2.2</td>\n",
       "    </tr>\n",
       "    <tr>\n",
       "      <th>2019</th>\n",
       "      <td>2.5</td>\n",
       "      <td>2.4</td>\n",
       "      <td>2.1</td>\n",
       "      <td>2.3</td>\n",
       "      <td>3.1</td>\n",
       "      <td>2.3</td>\n",
       "      <td>2.7</td>\n",
       "    </tr>\n",
       "    <tr>\n",
       "      <th>2020</th>\n",
       "      <td>2.7</td>\n",
       "      <td>2.4</td>\n",
       "      <td>2.7</td>\n",
       "      <td>2.6</td>\n",
       "      <td>2.4</td>\n",
       "      <td>3.1</td>\n",
       "      <td>2.8</td>\n",
       "    </tr>\n",
       "    <tr>\n",
       "      <th>2021</th>\n",
       "      <td>NaN</td>\n",
       "      <td>NaN</td>\n",
       "      <td>3.1</td>\n",
       "      <td>NaN</td>\n",
       "      <td>NaN</td>\n",
       "      <td>NaN</td>\n",
       "      <td>3.6</td>\n",
       "    </tr>\n",
       "  </tbody>\n",
       "</table>\n",
       "</div>"
      ],
      "text/plain": [
       "request_weekday  Mon  Tue  Wed  Thu  Fri  Sat  Sun\n",
       "request_year                                      \n",
       "2016             NaN  NaN  2.8  2.4  NaN  2.1  2.9\n",
       "2017             2.8  2.1  2.4  2.2  2.7  2.1  2.7\n",
       "2018             2.0  1.9  2.6  2.0  2.2  2.4  2.2\n",
       "2019             2.5  2.4  2.1  2.3  3.1  2.3  2.7\n",
       "2020             2.7  2.4  2.7  2.6  2.4  3.1  2.8\n",
       "2021             NaN  NaN  3.1  NaN  NaN  NaN  3.6"
      ]
     },
     "execution_count": 44,
     "metadata": {},
     "output_type": "execute_result"
    }
   ],
   "source": [
    "amount_table = completed_rides.pivot_table(values='fare_amount',aggfunc='sum',columns='request_weekday',index='request_year')\n",
    "column_order = \\\n",
    "['Mon','Tue','Wed','Thu','Fri','Sat','Sun']\n",
    "amount_table = amount_table.reindex(column_order,axis=1)\n",
    "\n",
    "distance_table = completed_rides.pivot_table(values='distance_km',aggfunc='sum',columns='request_weekday',index='request_year')\n",
    "distance_table = distance_table.reindex(column_order,axis=1)\n",
    "\n",
    "(amount_table/distance_table).round(1)"
   ]
  },
  {
   "cell_type": "code",
   "execution_count": 45,
   "id": "e40d1088",
   "metadata": {},
   "outputs": [
    {
     "data": {
      "image/png": "[encoded data removed]",
      "text/plain": [
       "<Figure size 1200x400 with 1 Axes>"
      ]
     },
     "metadata": {},
     "output_type": "display_data"
    }
   ],
   "source": [
    "#creating an auxiliar data frame to \n",
    "#be displayed in category plot\n",
    "aux_serie = \\\n",
    "round((completed_rides.groupby \\\n",
    "       ('request_weekday')['fare_amount'].sum() \\\n",
    "       /completed_rides.groupby('request_weekday') \\\n",
    "       ['distance_km'].sum()),2)  \n",
    "amount_km_df = pd.DataFrame(aux_serie)\n",
    "amount_km_df = amount_km_df.reset_index()\n",
    "amount_km_df.rename(columns={'request_weekday':'weekday',0:'values'},inplace=True)\n",
    "\n",
    "\n",
    "sns.catplot(x='weekday', \n",
    "    y='values', \n",
    "    data=amount_km_df, kind='bar', \n",
    "    height=4, aspect=3, \n",
    "    order=['Mon','Tue','Wed','Thu','Fri','Sat','Sun'],\n",
    "    palette='magma');"
   ]
  },
  {
   "cell_type": "markdown",
   "id": "09c0f8c9",
   "metadata": {},
   "source": [
    "### 7. Which was the longest/shortest and more expensive/cheaper ride?\n",
    "\n",
    "The table below shows records with the longest (31.77 km) and shortest rides (0.24 km)."
   ]
  },
  {
   "cell_type": "code",
   "execution_count": 46,
   "id": "9f27ae33",
   "metadata": {},
   "outputs": [
    {
     "name": "stderr",
     "output_type": "stream",
     "text": [
      "C:\\Users\\Home pc\\AppData\\Local\\Temp\\ipykernel_11468\\4238650377.py:2: FutureWarning: The frame.append method is deprecated and will be removed from pandas in a future version. Use pandas.concat instead.\n",
      "  new_df = new_df.append(completed_rides[completed_rides['distance_km']==completed_rides['distance_km'].min()])\n"
     ]
    },
    {
     "data": {
      "text/html": [
       "<div>\n",
       "<style scoped>\n",
       "    .dataframe tbody tr th:only-of-type {\n",
       "        vertical-align: middle;\n",
       "    }\n",
       "\n",
       "    .dataframe tbody tr th {\n",
       "        vertical-align: top;\n",
       "    }\n",
       "\n",
       "    .dataframe thead th {\n",
       "        text-align: right;\n",
       "    }\n",
       "</style>\n",
       "<table border=\"1\" class=\"dataframe\">\n",
       "  <thead>\n",
       "    <tr style=\"text-align: right;\">\n",
       "      <th></th>\n",
       "      <th>city</th>\n",
       "      <th>product_type</th>\n",
       "      <th>status</th>\n",
       "      <th>request_time</th>\n",
       "      <th>begin_time</th>\n",
       "      <th>begin_lat</th>\n",
       "      <th>begin_lng</th>\n",
       "      <th>dropoff_time</th>\n",
       "      <th>dropoff_lat</th>\n",
       "      <th>dropoff_lng</th>\n",
       "      <th>distance_miles</th>\n",
       "      <th>fare_amount</th>\n",
       "      <th>request_year</th>\n",
       "      <th>request_month</th>\n",
       "      <th>request_weekday</th>\n",
       "      <th>request_hour</th>\n",
       "      <th>distance_km</th>\n",
       "      <th>amount_km</th>\n",
       "      <th>request_lead_time</th>\n",
       "      <th>trip_duration</th>\n",
       "    </tr>\n",
       "  </thead>\n",
       "  <tbody>\n",
       "    <tr>\n",
       "      <th>3</th>\n",
       "      <td>458</td>\n",
       "      <td>UberX</td>\n",
       "      <td>COMPLETED</td>\n",
       "      <td>2020-12-11 23:16:33</td>\n",
       "      <td>2020-12-11 23:27:32</td>\n",
       "      <td>-23.559410</td>\n",
       "      <td>-46.666435</td>\n",
       "      <td>2020-12-12 00:32:47</td>\n",
       "      <td>-23.425755</td>\n",
       "      <td>-46.481190</td>\n",
       "      <td>19.74</td>\n",
       "      <td>58.77</td>\n",
       "      <td>2020</td>\n",
       "      <td>Dec</td>\n",
       "      <td>Fri</td>\n",
       "      <td>23:16</td>\n",
       "      <td>31.77</td>\n",
       "      <td>2.98</td>\n",
       "      <td>11.0</td>\n",
       "      <td>65.2</td>\n",
       "    </tr>\n",
       "    <tr>\n",
       "      <th>305</th>\n",
       "      <td>458</td>\n",
       "      <td>UberX</td>\n",
       "      <td>COMPLETED</td>\n",
       "      <td>2018-04-15 23:18:40</td>\n",
       "      <td>2018-04-15 23:27:42</td>\n",
       "      <td>-23.502636</td>\n",
       "      <td>-46.624952</td>\n",
       "      <td>2018-04-15 23:34:17</td>\n",
       "      <td>-23.503310</td>\n",
       "      <td>-46.636808</td>\n",
       "      <td>0.15</td>\n",
       "      <td>11.27</td>\n",
       "      <td>2018</td>\n",
       "      <td>Apr</td>\n",
       "      <td>Sun</td>\n",
       "      <td>23:18</td>\n",
       "      <td>0.24</td>\n",
       "      <td>75.13</td>\n",
       "      <td>9.0</td>\n",
       "      <td>6.6</td>\n",
       "    </tr>\n",
       "  </tbody>\n",
       "</table>\n",
       "</div>"
      ],
      "text/plain": [
       "     city product_type     status        request_time          begin_time  \\\n",
       "3     458        UberX  COMPLETED 2020-12-11 23:16:33 2020-12-11 23:27:32   \n",
       "305   458        UberX  COMPLETED 2018-04-15 23:18:40 2018-04-15 23:27:42   \n",
       "\n",
       "     begin_lat  begin_lng        dropoff_time  dropoff_lat  dropoff_lng  \\\n",
       "3   -23.559410 -46.666435 2020-12-12 00:32:47   -23.425755   -46.481190   \n",
       "305 -23.502636 -46.624952 2018-04-15 23:34:17   -23.503310   -46.636808   \n",
       "\n",
       "     distance_miles  fare_amount request_year request_month request_weekday  \\\n",
       "3             19.74        58.77         2020           Dec             Fri   \n",
       "305            0.15        11.27         2018           Apr             Sun   \n",
       "\n",
       "    request_hour  distance_km  amount_km  request_lead_time  trip_duration  \n",
       "3          23:16        31.77       2.98               11.0           65.2  \n",
       "305        23:18         0.24      75.13                9.0            6.6  "
      ]
     },
     "execution_count": 46,
     "metadata": {},
     "output_type": "execute_result"
    }
   ],
   "source": [
    "new_df = completed_rides[completed_rides['distance_km']==completed_rides['distance_km'].max()]\n",
    "new_df = new_df.append(completed_rides[completed_rides['distance_km']==completed_rides['distance_km'].min()])\n",
    "new_df"
   ]
  },
  {
   "cell_type": "markdown",
   "id": "e7425cd1",
   "metadata": {},
   "source": [
    "Analyzing the amount paid by km ridden we have: expensive (75.13 BRL/km) and cheaper (0 BRL/km). This effect is basically driven by fixed minimum fare in high-demand periods since the total distance was only 0.24km."
   ]
  },
  {
   "cell_type": "code",
   "execution_count": 47,
   "id": "b2c993c6",
   "metadata": {},
   "outputs": [
    {
     "name": "stderr",
     "output_type": "stream",
     "text": [
      "C:\\Users\\Home pc\\AppData\\Local\\Temp\\ipykernel_11468\\922200254.py:2: FutureWarning: The frame.append method is deprecated and will be removed from pandas in a future version. Use pandas.concat instead.\n",
      "  new1_df = new1_df.append(completed_rides[completed_rides['amount_km']==completed_rides['amount_km'].min()])\n"
     ]
    },
    {
     "data": {
      "text/html": [
       "<div>\n",
       "<style scoped>\n",
       "    .dataframe tbody tr th:only-of-type {\n",
       "        vertical-align: middle;\n",
       "    }\n",
       "\n",
       "    .dataframe tbody tr th {\n",
       "        vertical-align: top;\n",
       "    }\n",
       "\n",
       "    .dataframe thead th {\n",
       "        text-align: right;\n",
       "    }\n",
       "</style>\n",
       "<table border=\"1\" class=\"dataframe\">\n",
       "  <thead>\n",
       "    <tr style=\"text-align: right;\">\n",
       "      <th></th>\n",
       "      <th>city</th>\n",
       "      <th>product_type</th>\n",
       "      <th>status</th>\n",
       "      <th>request_time</th>\n",
       "      <th>begin_time</th>\n",
       "      <th>begin_lat</th>\n",
       "      <th>begin_lng</th>\n",
       "      <th>dropoff_time</th>\n",
       "      <th>dropoff_lat</th>\n",
       "      <th>dropoff_lng</th>\n",
       "      <th>distance_miles</th>\n",
       "      <th>fare_amount</th>\n",
       "      <th>request_year</th>\n",
       "      <th>request_month</th>\n",
       "      <th>request_weekday</th>\n",
       "      <th>request_hour</th>\n",
       "      <th>distance_km</th>\n",
       "      <th>amount_km</th>\n",
       "      <th>request_lead_time</th>\n",
       "      <th>trip_duration</th>\n",
       "    </tr>\n",
       "  </thead>\n",
       "  <tbody>\n",
       "    <tr>\n",
       "      <th>305</th>\n",
       "      <td>458</td>\n",
       "      <td>UberX</td>\n",
       "      <td>COMPLETED</td>\n",
       "      <td>2018-04-15 23:18:40</td>\n",
       "      <td>2018-04-15 23:27:42</td>\n",
       "      <td>-23.502636</td>\n",
       "      <td>-46.624952</td>\n",
       "      <td>2018-04-15 23:34:17</td>\n",
       "      <td>-23.503310</td>\n",
       "      <td>-46.636808</td>\n",
       "      <td>0.15</td>\n",
       "      <td>11.27</td>\n",
       "      <td>2018</td>\n",
       "      <td>Apr</td>\n",
       "      <td>Sun</td>\n",
       "      <td>23:18</td>\n",
       "      <td>0.24</td>\n",
       "      <td>75.13</td>\n",
       "      <td>9.0</td>\n",
       "      <td>6.6</td>\n",
       "    </tr>\n",
       "    <tr>\n",
       "      <th>87</th>\n",
       "      <td>458</td>\n",
       "      <td>UberX</td>\n",
       "      <td>COMPLETED</td>\n",
       "      <td>2019-11-30 03:34:56</td>\n",
       "      <td>2019-11-30 03:40:37</td>\n",
       "      <td>-23.591813</td>\n",
       "      <td>-46.690720</td>\n",
       "      <td>2019-11-30 03:53:24</td>\n",
       "      <td>-23.559366</td>\n",
       "      <td>-46.666489</td>\n",
       "      <td>3.54</td>\n",
       "      <td>0.00</td>\n",
       "      <td>2019</td>\n",
       "      <td>Nov</td>\n",
       "      <td>Sat</td>\n",
       "      <td>03:34</td>\n",
       "      <td>5.70</td>\n",
       "      <td>0.00</td>\n",
       "      <td>5.7</td>\n",
       "      <td>12.8</td>\n",
       "    </tr>\n",
       "  </tbody>\n",
       "</table>\n",
       "</div>"
      ],
      "text/plain": [
       "     city product_type     status        request_time          begin_time  \\\n",
       "305   458        UberX  COMPLETED 2018-04-15 23:18:40 2018-04-15 23:27:42   \n",
       "87    458        UberX  COMPLETED 2019-11-30 03:34:56 2019-11-30 03:40:37   \n",
       "\n",
       "     begin_lat  begin_lng        dropoff_time  dropoff_lat  dropoff_lng  \\\n",
       "305 -23.502636 -46.624952 2018-04-15 23:34:17   -23.503310   -46.636808   \n",
       "87  -23.591813 -46.690720 2019-11-30 03:53:24   -23.559366   -46.666489   \n",
       "\n",
       "     distance_miles  fare_amount request_year request_month request_weekday  \\\n",
       "305            0.15        11.27         2018           Apr             Sun   \n",
       "87             3.54         0.00         2019           Nov             Sat   \n",
       "\n",
       "    request_hour  distance_km  amount_km  request_lead_time  trip_duration  \n",
       "305        23:18         0.24      75.13                9.0            6.6  \n",
       "87         03:34         5.70       0.00                5.7           12.8  "
      ]
     },
     "execution_count": 47,
     "metadata": {},
     "output_type": "execute_result"
    }
   ],
   "source": [
    "new1_df = completed_rides[completed_rides['amount_km']==completed_rides['amount_km'].max()]\n",
    "new1_df = new1_df.append(completed_rides[completed_rides['amount_km']==completed_rides['amount_km'].min()])\n",
    "new1_df"
   ]
  },
  {
   "cell_type": "markdown",
   "id": "dae58760",
   "metadata": {},
   "source": [
    "### 8. What was the average lead time before beginning a trip?\n",
    "\n",
    "It took approximately 5 minutes to start trips after they are requested."
   ]
  },
  {
   "cell_type": "code",
   "execution_count": 48,
   "id": "e624500a",
   "metadata": {},
   "outputs": [
    {
     "name": "stdout",
     "output_type": "stream",
     "text": [
      "4.9 minutes\n"
     ]
    }
   ],
   "source": [
    "print(round(completed_rides['request_lead_time'].mean(),1),'minutes')"
   ]
  },
  {
   "cell_type": "markdown",
   "id": "ccfbc5d3",
   "metadata": {},
   "source": [
    "## Conclusion!!!\n",
    "\n",
    "***Exploratory Data Analysis is not a trivial task! It requires lots of work and patience, however, it is surely a powerful tool if correctly applied to your business context.***"
   ]
  },
  {
   "cell_type": "code",
   "execution_count": null,
   "id": "b597b56c",
   "metadata": {},
   "outputs": [],
   "source": []
  }
 ],
 "metadata": {
  "kernelspec": {
   "display_name": "Python 3 (ipykernel)",
   "language": "python",
   "name": "python3"
  },
  "language_info": {
   "codemirror_mode": {
    "name": "ipython",
    "version": 3
   },
   "file_extension": ".py",
   "mimetype": "text/x-python",
   "name": "python",
   "nbconvert_exporter": "python",
   "pygments_lexer": "ipython3",
   "version": "3.9.13"
  }
 },
 "nbformat": 4,
 "nbformat_minor": 5
}
